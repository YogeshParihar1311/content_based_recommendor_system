{
  "cells": [
    {
      "cell_type": "markdown",
      "metadata": {
        "id": "view-in-github",
        "colab_type": "text"
      },
      "source": [
        "<a href=\"https://colab.research.google.com/github/YogeshParihar1311/content_based_recommendor_system/blob/main/content_based_recommendation_movie.ipynb\" target=\"_parent\"><img src=\"https://colab.research.google.com/assets/colab-badge.svg\" alt=\"Open In Colab\"/></a>"
      ]
    },
    {
      "cell_type": "code",
      "execution_count": null,
      "metadata": {
        "id": "Fn6Tx1Rb2Etb"
      },
      "outputs": [],
      "source": [
        "import pandas as pd\n",
        "import numpy as np\n",
        "\n",
        "import matplotlib.pyplot as plt\n",
        "import seaborn as sns\n",
        "\n",
        "from scipy import stats\n",
        "from statsmodels.stats.outliers_influence import variance_inflation_factor\n",
        "# from autoviz.classify_method import data_cleaning_suggestions ,data_suggestions\n",
        "\n",
        "# from pycaret  import regression\n",
        "from sklearn.model_selection import cross_val_score"
      ]
    },
    {
      "cell_type": "code",
      "execution_count": null,
      "metadata": {
        "colab": {
          "base_uri": "https://localhost:8080/",
          "height": 90
        },
        "id": "8l6MKNsW2PmA",
        "outputId": "48dda88a-6c61-4f1f-d90f-04d814350fc6"
      },
      "outputs": [
        {
          "data": {
            "text/html": [
              "\n",
              "     <input type=\"file\" id=\"files-e7deb44f-7d47-49a9-9b97-64fcc239a671\" name=\"files[]\" multiple disabled\n",
              "        style=\"border:none\" />\n",
              "     <output id=\"result-e7deb44f-7d47-49a9-9b97-64fcc239a671\">\n",
              "      Upload widget is only available when the cell has been executed in the\n",
              "      current browser session. Please rerun this cell to enable.\n",
              "      </output>\n",
              "      <script>// Copyright 2017 Google LLC\n",
              "//\n",
              "// Licensed under the Apache License, Version 2.0 (the \"License\");\n",
              "// you may not use this file except in compliance with the License.\n",
              "// You may obtain a copy of the License at\n",
              "//\n",
              "//      http://www.apache.org/licenses/LICENSE-2.0\n",
              "//\n",
              "// Unless required by applicable law or agreed to in writing, software\n",
              "// distributed under the License is distributed on an \"AS IS\" BASIS,\n",
              "// WITHOUT WARRANTIES OR CONDITIONS OF ANY KIND, either express or implied.\n",
              "// See the License for the specific language governing permissions and\n",
              "// limitations under the License.\n",
              "\n",
              "/**\n",
              " * @fileoverview Helpers for google.colab Python module.\n",
              " */\n",
              "(function(scope) {\n",
              "function span(text, styleAttributes = {}) {\n",
              "  const element = document.createElement('span');\n",
              "  element.textContent = text;\n",
              "  for (const key of Object.keys(styleAttributes)) {\n",
              "    element.style[key] = styleAttributes[key];\n",
              "  }\n",
              "  return element;\n",
              "}\n",
              "\n",
              "// Max number of bytes which will be uploaded at a time.\n",
              "const MAX_PAYLOAD_SIZE = 100 * 1024;\n",
              "\n",
              "function _uploadFiles(inputId, outputId) {\n",
              "  const steps = uploadFilesStep(inputId, outputId);\n",
              "  const outputElement = document.getElementById(outputId);\n",
              "  // Cache steps on the outputElement to make it available for the next call\n",
              "  // to uploadFilesContinue from Python.\n",
              "  outputElement.steps = steps;\n",
              "\n",
              "  return _uploadFilesContinue(outputId);\n",
              "}\n",
              "\n",
              "// This is roughly an async generator (not supported in the browser yet),\n",
              "// where there are multiple asynchronous steps and the Python side is going\n",
              "// to poll for completion of each step.\n",
              "// This uses a Promise to block the python side on completion of each step,\n",
              "// then passes the result of the previous step as the input to the next step.\n",
              "function _uploadFilesContinue(outputId) {\n",
              "  const outputElement = document.getElementById(outputId);\n",
              "  const steps = outputElement.steps;\n",
              "\n",
              "  const next = steps.next(outputElement.lastPromiseValue);\n",
              "  return Promise.resolve(next.value.promise).then((value) => {\n",
              "    // Cache the last promise value to make it available to the next\n",
              "    // step of the generator.\n",
              "    outputElement.lastPromiseValue = value;\n",
              "    return next.value.response;\n",
              "  });\n",
              "}\n",
              "\n",
              "/**\n",
              " * Generator function which is called between each async step of the upload\n",
              " * process.\n",
              " * @param {string} inputId Element ID of the input file picker element.\n",
              " * @param {string} outputId Element ID of the output display.\n",
              " * @return {!Iterable<!Object>} Iterable of next steps.\n",
              " */\n",
              "function* uploadFilesStep(inputId, outputId) {\n",
              "  const inputElement = document.getElementById(inputId);\n",
              "  inputElement.disabled = false;\n",
              "\n",
              "  const outputElement = document.getElementById(outputId);\n",
              "  outputElement.innerHTML = '';\n",
              "\n",
              "  const pickedPromise = new Promise((resolve) => {\n",
              "    inputElement.addEventListener('change', (e) => {\n",
              "      resolve(e.target.files);\n",
              "    });\n",
              "  });\n",
              "\n",
              "  const cancel = document.createElement('button');\n",
              "  inputElement.parentElement.appendChild(cancel);\n",
              "  cancel.textContent = 'Cancel upload';\n",
              "  const cancelPromise = new Promise((resolve) => {\n",
              "    cancel.onclick = () => {\n",
              "      resolve(null);\n",
              "    };\n",
              "  });\n",
              "\n",
              "  // Wait for the user to pick the files.\n",
              "  const files = yield {\n",
              "    promise: Promise.race([pickedPromise, cancelPromise]),\n",
              "    response: {\n",
              "      action: 'starting',\n",
              "    }\n",
              "  };\n",
              "\n",
              "  cancel.remove();\n",
              "\n",
              "  // Disable the input element since further picks are not allowed.\n",
              "  inputElement.disabled = true;\n",
              "\n",
              "  if (!files) {\n",
              "    return {\n",
              "      response: {\n",
              "        action: 'complete',\n",
              "      }\n",
              "    };\n",
              "  }\n",
              "\n",
              "  for (const file of files) {\n",
              "    const li = document.createElement('li');\n",
              "    li.append(span(file.name, {fontWeight: 'bold'}));\n",
              "    li.append(span(\n",
              "        `(${file.type || 'n/a'}) - ${file.size} bytes, ` +\n",
              "        `last modified: ${\n",
              "            file.lastModifiedDate ? file.lastModifiedDate.toLocaleDateString() :\n",
              "                                    'n/a'} - `));\n",
              "    const percent = span('0% done');\n",
              "    li.appendChild(percent);\n",
              "\n",
              "    outputElement.appendChild(li);\n",
              "\n",
              "    const fileDataPromise = new Promise((resolve) => {\n",
              "      const reader = new FileReader();\n",
              "      reader.onload = (e) => {\n",
              "        resolve(e.target.result);\n",
              "      };\n",
              "      reader.readAsArrayBuffer(file);\n",
              "    });\n",
              "    // Wait for the data to be ready.\n",
              "    let fileData = yield {\n",
              "      promise: fileDataPromise,\n",
              "      response: {\n",
              "        action: 'continue',\n",
              "      }\n",
              "    };\n",
              "\n",
              "    // Use a chunked sending to avoid message size limits. See b/62115660.\n",
              "    let position = 0;\n",
              "    do {\n",
              "      const length = Math.min(fileData.byteLength - position, MAX_PAYLOAD_SIZE);\n",
              "      const chunk = new Uint8Array(fileData, position, length);\n",
              "      position += length;\n",
              "\n",
              "      const base64 = btoa(String.fromCharCode.apply(null, chunk));\n",
              "      yield {\n",
              "        response: {\n",
              "          action: 'append',\n",
              "          file: file.name,\n",
              "          data: base64,\n",
              "        },\n",
              "      };\n",
              "\n",
              "      let percentDone = fileData.byteLength === 0 ?\n",
              "          100 :\n",
              "          Math.round((position / fileData.byteLength) * 100);\n",
              "      percent.textContent = `${percentDone}% done`;\n",
              "\n",
              "    } while (position < fileData.byteLength);\n",
              "  }\n",
              "\n",
              "  // All done.\n",
              "  yield {\n",
              "    response: {\n",
              "      action: 'complete',\n",
              "    }\n",
              "  };\n",
              "}\n",
              "\n",
              "scope.google = scope.google || {};\n",
              "scope.google.colab = scope.google.colab || {};\n",
              "scope.google.colab._files = {\n",
              "  _uploadFiles,\n",
              "  _uploadFilesContinue,\n",
              "};\n",
              "})(self);\n",
              "</script> "
            ],
            "text/plain": [
              "<IPython.core.display.HTML object>"
            ]
          },
          "metadata": {},
          "output_type": "display_data"
        },
        {
          "name": "stdout",
          "output_type": "stream",
          "text": [
            "Saving kaggle.json to kaggle.json\n"
          ]
        },
        {
          "data": {
            "text/plain": [
              "{'kaggle.json': b'{\"username\":\"yogeshparihar1311\",\"key\":\"41646bae978e8cfc336f2cbe53f584d0\"}'}"
            ]
          },
          "execution_count": 3,
          "metadata": {},
          "output_type": "execute_result"
        }
      ],
      "source": [
        "from google.colab import files\n",
        "\n",
        "files.upload()"
      ]
    },
    {
      "cell_type": "code",
      "execution_count": null,
      "metadata": {
        "id": "Ef6I4fsV2RLt"
      },
      "outputs": [],
      "source": [
        "! mkdir ~/.kaggle\n",
        "\n",
        "! cp kaggle.json ~/.kaggle/"
      ]
    },
    {
      "cell_type": "code",
      "execution_count": null,
      "metadata": {
        "id": "QHSn69Su2RBp"
      },
      "outputs": [],
      "source": [
        " ! chmod 600 ~/.kaggle/kaggle.json"
      ]
    },
    {
      "cell_type": "code",
      "execution_count": null,
      "metadata": {
        "colab": {
          "base_uri": "https://localhost:8080/"
        },
        "id": "9lXr3M9s2QuH",
        "outputId": "a8d8ac41-20cf-45b0-bd61-b20eea16a4ed"
      },
      "outputs": [
        {
          "name": "stdout",
          "output_type": "stream",
          "text": [
            "Downloading the-movies-dataset.zip to /content\n",
            " 92% 210M/228M [00:01<00:00, 167MB/s]\n",
            "100% 228M/228M [00:01<00:00, 142MB/s]\n"
          ]
        }
      ],
      "source": [
        "! kaggle datasets download rounakbanik/the-movies-dataset"
      ]
    },
    {
      "cell_type": "code",
      "execution_count": null,
      "metadata": {
        "colab": {
          "base_uri": "https://localhost:8080/"
        },
        "id": "PE6bSC3U2mqD",
        "outputId": "57aa832e-79db-4786-fee5-f6753763dbea"
      },
      "outputs": [
        {
          "name": "stdout",
          "output_type": "stream",
          "text": [
            "Archive:  the-movies-dataset.zip\n",
            "  inflating: credits.csv             \n",
            "  inflating: keywords.csv            \n",
            "  inflating: links.csv               \n",
            "  inflating: links_small.csv         \n",
            "  inflating: movies_metadata.csv     \n",
            "  inflating: ratings.csv             \n",
            "  inflating: ratings_small.csv       \n"
          ]
        }
      ],
      "source": [
        "! unzip the-movies-dataset.zip"
      ]
    },
    {
      "cell_type": "code",
      "execution_count": null,
      "metadata": {
        "id": "b2iG7bq62Ete"
      },
      "outputs": [],
      "source": [
        "pd.set_option(\"display.max_columns\",None)"
      ]
    },
    {
      "cell_type": "markdown",
      "metadata": {
        "id": "6wVPwZBj2Ete"
      },
      "source": [
        "# Feature Engineering on credits"
      ]
    },
    {
      "cell_type": "code",
      "execution_count": null,
      "metadata": {
        "id": "fbKk7xTe2Etg"
      },
      "outputs": [],
      "source": [
        "df = pd.read_csv(\"credits.csv\")"
      ]
    },
    {
      "cell_type": "code",
      "execution_count": null,
      "metadata": {
        "colab": {
          "base_uri": "https://localhost:8080/",
          "height": 206
        },
        "id": "8zGvgeA_2Etg",
        "outputId": "05235d91-417f-46c5-ddf8-0082ae33e80a"
      },
      "outputs": [
        {
          "data": {
            "text/html": [
              "\n",
              "  <div id=\"df-900eb719-0a3e-4504-ae33-efa9a0c4e4f5\">\n",
              "    <div class=\"colab-df-container\">\n",
              "      <div>\n",
              "<style scoped>\n",
              "    .dataframe tbody tr th:only-of-type {\n",
              "        vertical-align: middle;\n",
              "    }\n",
              "\n",
              "    .dataframe tbody tr th {\n",
              "        vertical-align: top;\n",
              "    }\n",
              "\n",
              "    .dataframe thead th {\n",
              "        text-align: right;\n",
              "    }\n",
              "</style>\n",
              "<table border=\"1\" class=\"dataframe\">\n",
              "  <thead>\n",
              "    <tr style=\"text-align: right;\">\n",
              "      <th></th>\n",
              "      <th>cast</th>\n",
              "      <th>crew</th>\n",
              "      <th>id</th>\n",
              "    </tr>\n",
              "  </thead>\n",
              "  <tbody>\n",
              "    <tr>\n",
              "      <th>0</th>\n",
              "      <td>[{'cast_id': 14, 'character': 'Woody (voice)',...</td>\n",
              "      <td>[{'credit_id': '52fe4284c3a36847f8024f49', 'de...</td>\n",
              "      <td>862</td>\n",
              "    </tr>\n",
              "    <tr>\n",
              "      <th>1</th>\n",
              "      <td>[{'cast_id': 1, 'character': 'Alan Parrish', '...</td>\n",
              "      <td>[{'credit_id': '52fe44bfc3a36847f80a7cd1', 'de...</td>\n",
              "      <td>8844</td>\n",
              "    </tr>\n",
              "    <tr>\n",
              "      <th>2</th>\n",
              "      <td>[{'cast_id': 2, 'character': 'Max Goldman', 'c...</td>\n",
              "      <td>[{'credit_id': '52fe466a9251416c75077a89', 'de...</td>\n",
              "      <td>15602</td>\n",
              "    </tr>\n",
              "    <tr>\n",
              "      <th>3</th>\n",
              "      <td>[{'cast_id': 1, 'character': \"Savannah 'Vannah...</td>\n",
              "      <td>[{'credit_id': '52fe44779251416c91011acb', 'de...</td>\n",
              "      <td>31357</td>\n",
              "    </tr>\n",
              "    <tr>\n",
              "      <th>4</th>\n",
              "      <td>[{'cast_id': 1, 'character': 'George Banks', '...</td>\n",
              "      <td>[{'credit_id': '52fe44959251416c75039ed7', 'de...</td>\n",
              "      <td>11862</td>\n",
              "    </tr>\n",
              "  </tbody>\n",
              "</table>\n",
              "</div>\n",
              "      <button class=\"colab-df-convert\" onclick=\"convertToInteractive('df-900eb719-0a3e-4504-ae33-efa9a0c4e4f5')\"\n",
              "              title=\"Convert this dataframe to an interactive table.\"\n",
              "              style=\"display:none;\">\n",
              "        \n",
              "  <svg xmlns=\"http://www.w3.org/2000/svg\" height=\"24px\"viewBox=\"0 0 24 24\"\n",
              "       width=\"24px\">\n",
              "    <path d=\"M0 0h24v24H0V0z\" fill=\"none\"/>\n",
              "    <path d=\"M18.56 5.44l.94 2.06.94-2.06 2.06-.94-2.06-.94-.94-2.06-.94 2.06-2.06.94zm-11 1L8.5 8.5l.94-2.06 2.06-.94-2.06-.94L8.5 2.5l-.94 2.06-2.06.94zm10 10l.94 2.06.94-2.06 2.06-.94-2.06-.94-.94-2.06-.94 2.06-2.06.94z\"/><path d=\"M17.41 7.96l-1.37-1.37c-.4-.4-.92-.59-1.43-.59-.52 0-1.04.2-1.43.59L10.3 9.45l-7.72 7.72c-.78.78-.78 2.05 0 2.83L4 21.41c.39.39.9.59 1.41.59.51 0 1.02-.2 1.41-.59l7.78-7.78 2.81-2.81c.8-.78.8-2.07 0-2.86zM5.41 20L4 18.59l7.72-7.72 1.47 1.35L5.41 20z\"/>\n",
              "  </svg>\n",
              "      </button>\n",
              "      \n",
              "  <style>\n",
              "    .colab-df-container {\n",
              "      display:flex;\n",
              "      flex-wrap:wrap;\n",
              "      gap: 12px;\n",
              "    }\n",
              "\n",
              "    .colab-df-convert {\n",
              "      background-color: #E8F0FE;\n",
              "      border: none;\n",
              "      border-radius: 50%;\n",
              "      cursor: pointer;\n",
              "      display: none;\n",
              "      fill: #1967D2;\n",
              "      height: 32px;\n",
              "      padding: 0 0 0 0;\n",
              "      width: 32px;\n",
              "    }\n",
              "\n",
              "    .colab-df-convert:hover {\n",
              "      background-color: #E2EBFA;\n",
              "      box-shadow: 0px 1px 2px rgba(60, 64, 67, 0.3), 0px 1px 3px 1px rgba(60, 64, 67, 0.15);\n",
              "      fill: #174EA6;\n",
              "    }\n",
              "\n",
              "    [theme=dark] .colab-df-convert {\n",
              "      background-color: #3B4455;\n",
              "      fill: #D2E3FC;\n",
              "    }\n",
              "\n",
              "    [theme=dark] .colab-df-convert:hover {\n",
              "      background-color: #434B5C;\n",
              "      box-shadow: 0px 1px 3px 1px rgba(0, 0, 0, 0.15);\n",
              "      filter: drop-shadow(0px 1px 2px rgba(0, 0, 0, 0.3));\n",
              "      fill: #FFFFFF;\n",
              "    }\n",
              "  </style>\n",
              "\n",
              "      <script>\n",
              "        const buttonEl =\n",
              "          document.querySelector('#df-900eb719-0a3e-4504-ae33-efa9a0c4e4f5 button.colab-df-convert');\n",
              "        buttonEl.style.display =\n",
              "          google.colab.kernel.accessAllowed ? 'block' : 'none';\n",
              "\n",
              "        async function convertToInteractive(key) {\n",
              "          const element = document.querySelector('#df-900eb719-0a3e-4504-ae33-efa9a0c4e4f5');\n",
              "          const dataTable =\n",
              "            await google.colab.kernel.invokeFunction('convertToInteractive',\n",
              "                                                     [key], {});\n",
              "          if (!dataTable) return;\n",
              "\n",
              "          const docLinkHtml = 'Like what you see? Visit the ' +\n",
              "            '<a target=\"_blank\" href=https://colab.research.google.com/notebooks/data_table.ipynb>data table notebook</a>'\n",
              "            + ' to learn more about interactive tables.';\n",
              "          element.innerHTML = '';\n",
              "          dataTable['output_type'] = 'display_data';\n",
              "          await google.colab.output.renderOutput(dataTable, element);\n",
              "          const docLink = document.createElement('div');\n",
              "          docLink.innerHTML = docLinkHtml;\n",
              "          element.appendChild(docLink);\n",
              "        }\n",
              "      </script>\n",
              "    </div>\n",
              "  </div>\n",
              "  "
            ],
            "text/plain": [
              "                                                cast  \\\n",
              "0  [{'cast_id': 14, 'character': 'Woody (voice)',...   \n",
              "1  [{'cast_id': 1, 'character': 'Alan Parrish', '...   \n",
              "2  [{'cast_id': 2, 'character': 'Max Goldman', 'c...   \n",
              "3  [{'cast_id': 1, 'character': \"Savannah 'Vannah...   \n",
              "4  [{'cast_id': 1, 'character': 'George Banks', '...   \n",
              "\n",
              "                                                crew     id  \n",
              "0  [{'credit_id': '52fe4284c3a36847f8024f49', 'de...    862  \n",
              "1  [{'credit_id': '52fe44bfc3a36847f80a7cd1', 'de...   8844  \n",
              "2  [{'credit_id': '52fe466a9251416c75077a89', 'de...  15602  \n",
              "3  [{'credit_id': '52fe44779251416c91011acb', 'de...  31357  \n",
              "4  [{'credit_id': '52fe44959251416c75039ed7', 'de...  11862  "
            ]
          },
          "execution_count": 11,
          "metadata": {},
          "output_type": "execute_result"
        }
      ],
      "source": [
        "df.head()"
      ]
    },
    {
      "cell_type": "code",
      "execution_count": null,
      "metadata": {
        "colab": {
          "base_uri": "https://localhost:8080/",
          "height": 123
        },
        "id": "HuGRrcMc2Etg",
        "outputId": "c93ff138-4e66-47cf-a7c5-dfc275fa6561"
      },
      "outputs": [
        {
          "data": {
            "application/vnd.google.colaboratory.intrinsic+json": {
              "type": "string"
            },
            "text/plain": [
              "\"[{'cast_id': 14, 'character': 'Woody (voice)', 'credit_id': '52fe4284c3a36847f8024f95', 'gender': 2, 'id': 31, 'name': 'Tom Hanks', 'order': 0, 'profile_path': '/pQFoyx7rp09CJTAb932F2g8Nlho.jpg'}, {'cast_id': 15, 'character': 'Buzz Lightyear (voice)', 'credit_id': '52fe4284c3a36847f8024f99', 'gender': 2, 'id': 12898, 'name': 'Tim Allen', 'order': 1, 'profile_path': '/uX2xVf6pMmPepxnvFWyBtjexzgY.jpg'}, {'cast_id': 16, 'character': 'Mr. Potato Head (voice)', 'credit_id': '52fe4284c3a36847f8024f9d', 'gender': 2, 'id': 7167, 'name': 'Don Rickles', 'order': 2, 'profile_path': '/h5BcaDMPRVLHLDzbQavec4xfSdt.jpg'}, {'cast_id': 17, 'character': 'Slinky Dog (voice)', 'credit_id': '52fe4284c3a36847f8024fa1', 'gender': 2, 'id': 12899, 'name': 'Jim Varney', 'order': 3, 'profile_path': '/eIo2jVVXYgjDtaHoF19Ll9vtW7h.jpg'}, {'cast_id': 18, 'character': 'Rex (voice)', 'credit_id': '52fe4284c3a36847f8024fa5', 'gender': 2, 'id': 12900, 'name': 'Wallace Shawn', 'order': 4, 'profile_path': '/oGE6JqPP2xH4tNORKNqxbNPYi7u.jpg'}, {'cast_id': 19, 'character': 'Hamm (voice)', 'credit_id': '52fe4284c3a36847f8024fa9', 'gender': 2, 'id': 7907, 'name': 'John Ratzenberger', 'order': 5, 'profile_path': '/yGechiKWL6TJDfVE2KPSJYqdMsY.jpg'}, {'cast_id': 20, 'character': 'Bo Peep (voice)', 'credit_id': '52fe4284c3a36847f8024fad', 'gender': 1, 'id': 8873, 'name': 'Annie Potts', 'order': 6, 'profile_path': '/eryXT84RL41jHSJcMy4kS3u9y6w.jpg'}, {'cast_id': 26, 'character': 'Andy (voice)', 'credit_id': '52fe4284c3a36847f8024fc1', 'gender': 0, 'id': 1116442, 'name': 'John Morris', 'order': 7, 'profile_path': '/vYGyvK4LzeaUCoNSHtsuqJUY15M.jpg'}, {'cast_id': 22, 'character': 'Sid (voice)', 'credit_id': '52fe4284c3a36847f8024fb1', 'gender': 2, 'id': 12901, 'name': 'Erik von Detten', 'order': 8, 'profile_path': '/twnF1ZaJ1FUNUuo6xLXwcxjayBE.jpg'}, {'cast_id': 23, 'character': 'Mrs. Davis (voice)', 'credit_id': '52fe4284c3a36847f8024fb5', 'gender': 1, 'id': 12133, 'name': 'Laurie Metcalf', 'order': 9, 'profile_path': '/unMMIT60eoBM2sN2nyR7EZ2BvvD.jpg'}, {'cast_id': 24, 'character': 'Sergeant (voice)', 'credit_id': '52fe4284c3a36847f8024fb9', 'gender': 2, 'id': 8655, 'name': 'R. Lee Ermey', 'order': 10, 'profile_path': '/r8GBqFBjypLUP9VVqDqfZ7wYbSs.jpg'}, {'cast_id': 25, 'character': 'Hannah (voice)', 'credit_id': '52fe4284c3a36847f8024fbd', 'gender': 1, 'id': 12903, 'name': 'Sarah Freeman', 'order': 11, 'profile_path': None}, {'cast_id': 27, 'character': 'TV Announcer (voice)', 'credit_id': '52fe4284c3a36847f8024fc5', 'gender': 2, 'id': 37221, 'name': 'Penn Jillette', 'order': 12, 'profile_path': '/zmAaXUdx12NRsssgHbk1T31j2x9.jpg'}]\""
            ]
          },
          "execution_count": 12,
          "metadata": {},
          "output_type": "execute_result"
        }
      ],
      "source": [
        "df['cast'][0]"
      ]
    },
    {
      "cell_type": "code",
      "execution_count": null,
      "metadata": {
        "id": "oTyp518X2Eth"
      },
      "outputs": [],
      "source": [
        "df['cast_names'] = [\", \".join([i['name'] for i in eval(j)]) for j in df['cast']]"
      ]
    },
    {
      "cell_type": "code",
      "execution_count": null,
      "metadata": {
        "colab": {
          "base_uri": "https://localhost:8080/",
          "height": 53
        },
        "id": "HW6zriqr2Eth",
        "outputId": "692fb574-c05c-48f9-d4a0-8ec8a45d6466"
      },
      "outputs": [
        {
          "data": {
            "application/vnd.google.colaboratory.intrinsic+json": {
              "type": "string"
            },
            "text/plain": [
              "'Tom Hanks, Tim Allen, Don Rickles, Jim Varney, Wallace Shawn, John Ratzenberger, Annie Potts, John Morris, Erik von Detten, Laurie Metcalf, R. Lee Ermey, Sarah Freeman, Penn Jillette'"
            ]
          },
          "execution_count": 14,
          "metadata": {},
          "output_type": "execute_result"
        }
      ],
      "source": [
        "df['cast_names'][0]"
      ]
    },
    {
      "cell_type": "code",
      "execution_count": null,
      "metadata": {
        "colab": {
          "background_save": true
        },
        "id": "LujwEl0o2Eti"
      },
      "outputs": [],
      "source": [
        "df['director_names'] = [[i['name'] for i in eval(j)][0:1] for j in df['crew']]"
      ]
    },
    {
      "cell_type": "code",
      "execution_count": null,
      "metadata": {
        "colab": {
          "background_save": true
        },
        "id": "T7P-LZhR2Eti"
      },
      "outputs": [],
      "source": [
        "# for j in df['crew']:\n",
        "#     a = [i['name'] for i in eval(j)][0:2]\n",
        "#     print(a)"
      ]
    },
    {
      "cell_type": "code",
      "execution_count": null,
      "metadata": {
        "colab": {
          "background_save": true
        },
        "id": "xb2JB-S-2Etj"
      },
      "outputs": [],
      "source": [
        "df['director_names_nan'] = df['director_names'].apply(lambda x: np.nan if len(x)==0 else x[0])"
      ]
    },
    {
      "cell_type": "code",
      "execution_count": null,
      "metadata": {
        "colab": {
          "background_save": true
        },
        "id": "f28vsaZE2Etj",
        "outputId": "4800fd5e-d677-4eb3-f4f7-76f6f11cb3e2"
      },
      "outputs": [
        {
          "data": {
            "text/plain": [
              "771"
            ]
          },
          "execution_count": 18,
          "metadata": {},
          "output_type": "execute_result"
        }
      ],
      "source": [
        "df['director_names_nan'].isnull().sum()"
      ]
    },
    {
      "cell_type": "code",
      "execution_count": null,
      "metadata": {
        "colab": {
          "background_save": true
        },
        "id": "LJuCJ6ls2Etj"
      },
      "outputs": [],
      "source": [
        "df.dropna(inplace=True)"
      ]
    },
    {
      "cell_type": "code",
      "execution_count": null,
      "metadata": {
        "colab": {
          "background_save": true
        },
        "id": "R5hOXASX2Etk"
      },
      "outputs": [],
      "source": [
        "df.drop(['cast','crew','director_names'],axis=1,inplace=True)"
      ]
    },
    {
      "cell_type": "code",
      "execution_count": null,
      "metadata": {
        "colab": {
          "background_save": true
        },
        "id": "uQNkRwgW2Etk",
        "outputId": "0771d3ae-272f-4b41-da26-eb4eacb153c7"
      },
      "outputs": [
        {
          "data": {
            "text/html": [
              "\n",
              "  <div id=\"df-b9c16b69-ad84-48f7-8c5e-eae7c035e9ea\">\n",
              "    <div class=\"colab-df-container\">\n",
              "      <div>\n",
              "<style scoped>\n",
              "    .dataframe tbody tr th:only-of-type {\n",
              "        vertical-align: middle;\n",
              "    }\n",
              "\n",
              "    .dataframe tbody tr th {\n",
              "        vertical-align: top;\n",
              "    }\n",
              "\n",
              "    .dataframe thead th {\n",
              "        text-align: right;\n",
              "    }\n",
              "</style>\n",
              "<table border=\"1\" class=\"dataframe\">\n",
              "  <thead>\n",
              "    <tr style=\"text-align: right;\">\n",
              "      <th></th>\n",
              "      <th>id</th>\n",
              "      <th>cast_names</th>\n",
              "      <th>director_names_nan</th>\n",
              "    </tr>\n",
              "  </thead>\n",
              "  <tbody>\n",
              "    <tr>\n",
              "      <th>0</th>\n",
              "      <td>862</td>\n",
              "      <td>Tom Hanks, Tim Allen, Don Rickles, Jim Varney,...</td>\n",
              "      <td>John Lasseter</td>\n",
              "    </tr>\n",
              "    <tr>\n",
              "      <th>1</th>\n",
              "      <td>8844</td>\n",
              "      <td>Robin Williams, Jonathan Hyde, Kirsten Dunst, ...</td>\n",
              "      <td>Larry J. Franco</td>\n",
              "    </tr>\n",
              "    <tr>\n",
              "      <th>2</th>\n",
              "      <td>15602</td>\n",
              "      <td>Walter Matthau, Jack Lemmon, Ann-Margret, Soph...</td>\n",
              "      <td>Howard Deutch</td>\n",
              "    </tr>\n",
              "    <tr>\n",
              "      <th>3</th>\n",
              "      <td>31357</td>\n",
              "      <td>Whitney Houston, Angela Bassett, Loretta Devin...</td>\n",
              "      <td>Forest Whitaker</td>\n",
              "    </tr>\n",
              "    <tr>\n",
              "      <th>4</th>\n",
              "      <td>11862</td>\n",
              "      <td>Steve Martin, Diane Keaton, Martin Short, Kimb...</td>\n",
              "      <td>Alan Silvestri</td>\n",
              "    </tr>\n",
              "  </tbody>\n",
              "</table>\n",
              "</div>\n",
              "      <button class=\"colab-df-convert\" onclick=\"convertToInteractive('df-b9c16b69-ad84-48f7-8c5e-eae7c035e9ea')\"\n",
              "              title=\"Convert this dataframe to an interactive table.\"\n",
              "              style=\"display:none;\">\n",
              "        \n",
              "  <svg xmlns=\"http://www.w3.org/2000/svg\" height=\"24px\"viewBox=\"0 0 24 24\"\n",
              "       width=\"24px\">\n",
              "    <path d=\"M0 0h24v24H0V0z\" fill=\"none\"/>\n",
              "    <path d=\"M18.56 5.44l.94 2.06.94-2.06 2.06-.94-2.06-.94-.94-2.06-.94 2.06-2.06.94zm-11 1L8.5 8.5l.94-2.06 2.06-.94-2.06-.94L8.5 2.5l-.94 2.06-2.06.94zm10 10l.94 2.06.94-2.06 2.06-.94-2.06-.94-.94-2.06-.94 2.06-2.06.94z\"/><path d=\"M17.41 7.96l-1.37-1.37c-.4-.4-.92-.59-1.43-.59-.52 0-1.04.2-1.43.59L10.3 9.45l-7.72 7.72c-.78.78-.78 2.05 0 2.83L4 21.41c.39.39.9.59 1.41.59.51 0 1.02-.2 1.41-.59l7.78-7.78 2.81-2.81c.8-.78.8-2.07 0-2.86zM5.41 20L4 18.59l7.72-7.72 1.47 1.35L5.41 20z\"/>\n",
              "  </svg>\n",
              "      </button>\n",
              "      \n",
              "  <style>\n",
              "    .colab-df-container {\n",
              "      display:flex;\n",
              "      flex-wrap:wrap;\n",
              "      gap: 12px;\n",
              "    }\n",
              "\n",
              "    .colab-df-convert {\n",
              "      background-color: #E8F0FE;\n",
              "      border: none;\n",
              "      border-radius: 50%;\n",
              "      cursor: pointer;\n",
              "      display: none;\n",
              "      fill: #1967D2;\n",
              "      height: 32px;\n",
              "      padding: 0 0 0 0;\n",
              "      width: 32px;\n",
              "    }\n",
              "\n",
              "    .colab-df-convert:hover {\n",
              "      background-color: #E2EBFA;\n",
              "      box-shadow: 0px 1px 2px rgba(60, 64, 67, 0.3), 0px 1px 3px 1px rgba(60, 64, 67, 0.15);\n",
              "      fill: #174EA6;\n",
              "    }\n",
              "\n",
              "    [theme=dark] .colab-df-convert {\n",
              "      background-color: #3B4455;\n",
              "      fill: #D2E3FC;\n",
              "    }\n",
              "\n",
              "    [theme=dark] .colab-df-convert:hover {\n",
              "      background-color: #434B5C;\n",
              "      box-shadow: 0px 1px 3px 1px rgba(0, 0, 0, 0.15);\n",
              "      filter: drop-shadow(0px 1px 2px rgba(0, 0, 0, 0.3));\n",
              "      fill: #FFFFFF;\n",
              "    }\n",
              "  </style>\n",
              "\n",
              "      <script>\n",
              "        const buttonEl =\n",
              "          document.querySelector('#df-b9c16b69-ad84-48f7-8c5e-eae7c035e9ea button.colab-df-convert');\n",
              "        buttonEl.style.display =\n",
              "          google.colab.kernel.accessAllowed ? 'block' : 'none';\n",
              "\n",
              "        async function convertToInteractive(key) {\n",
              "          const element = document.querySelector('#df-b9c16b69-ad84-48f7-8c5e-eae7c035e9ea');\n",
              "          const dataTable =\n",
              "            await google.colab.kernel.invokeFunction('convertToInteractive',\n",
              "                                                     [key], {});\n",
              "          if (!dataTable) return;\n",
              "\n",
              "          const docLinkHtml = 'Like what you see? Visit the ' +\n",
              "            '<a target=\"_blank\" href=https://colab.research.google.com/notebooks/data_table.ipynb>data table notebook</a>'\n",
              "            + ' to learn more about interactive tables.';\n",
              "          element.innerHTML = '';\n",
              "          dataTable['output_type'] = 'display_data';\n",
              "          await google.colab.output.renderOutput(dataTable, element);\n",
              "          const docLink = document.createElement('div');\n",
              "          docLink.innerHTML = docLinkHtml;\n",
              "          element.appendChild(docLink);\n",
              "        }\n",
              "      </script>\n",
              "    </div>\n",
              "  </div>\n",
              "  "
            ],
            "text/plain": [
              "      id                                         cast_names director_names_nan\n",
              "0    862  Tom Hanks, Tim Allen, Don Rickles, Jim Varney,...      John Lasseter\n",
              "1   8844  Robin Williams, Jonathan Hyde, Kirsten Dunst, ...    Larry J. Franco\n",
              "2  15602  Walter Matthau, Jack Lemmon, Ann-Margret, Soph...      Howard Deutch\n",
              "3  31357  Whitney Houston, Angela Bassett, Loretta Devin...    Forest Whitaker\n",
              "4  11862  Steve Martin, Diane Keaton, Martin Short, Kimb...     Alan Silvestri"
            ]
          },
          "execution_count": 21,
          "metadata": {},
          "output_type": "execute_result"
        }
      ],
      "source": [
        "df.head()"
      ]
    },
    {
      "cell_type": "code",
      "execution_count": null,
      "metadata": {
        "colab": {
          "background_save": true
        },
        "id": "M1E01UVV2Etk"
      },
      "outputs": [],
      "source": [
        "cleaned_credits = df"
      ]
    },
    {
      "cell_type": "code",
      "execution_count": null,
      "metadata": {
        "colab": {
          "background_save": true
        },
        "id": "do2_EwIS2Etl",
        "outputId": "eff11e92-41fd-4322-d295-7e8ec6e5e92a"
      },
      "outputs": [
        {
          "data": {
            "text/html": [
              "\n",
              "  <div id=\"df-b897b515-000a-4c3e-84dd-051970a21577\">\n",
              "    <div class=\"colab-df-container\">\n",
              "      <div>\n",
              "<style scoped>\n",
              "    .dataframe tbody tr th:only-of-type {\n",
              "        vertical-align: middle;\n",
              "    }\n",
              "\n",
              "    .dataframe tbody tr th {\n",
              "        vertical-align: top;\n",
              "    }\n",
              "\n",
              "    .dataframe thead th {\n",
              "        text-align: right;\n",
              "    }\n",
              "</style>\n",
              "<table border=\"1\" class=\"dataframe\">\n",
              "  <thead>\n",
              "    <tr style=\"text-align: right;\">\n",
              "      <th></th>\n",
              "      <th>id</th>\n",
              "      <th>cast_names</th>\n",
              "      <th>director_names_nan</th>\n",
              "    </tr>\n",
              "  </thead>\n",
              "  <tbody>\n",
              "    <tr>\n",
              "      <th>0</th>\n",
              "      <td>862</td>\n",
              "      <td>Tom Hanks, Tim Allen, Don Rickles, Jim Varney,...</td>\n",
              "      <td>John Lasseter</td>\n",
              "    </tr>\n",
              "    <tr>\n",
              "      <th>1</th>\n",
              "      <td>8844</td>\n",
              "      <td>Robin Williams, Jonathan Hyde, Kirsten Dunst, ...</td>\n",
              "      <td>Larry J. Franco</td>\n",
              "    </tr>\n",
              "    <tr>\n",
              "      <th>2</th>\n",
              "      <td>15602</td>\n",
              "      <td>Walter Matthau, Jack Lemmon, Ann-Margret, Soph...</td>\n",
              "      <td>Howard Deutch</td>\n",
              "    </tr>\n",
              "    <tr>\n",
              "      <th>3</th>\n",
              "      <td>31357</td>\n",
              "      <td>Whitney Houston, Angela Bassett, Loretta Devin...</td>\n",
              "      <td>Forest Whitaker</td>\n",
              "    </tr>\n",
              "    <tr>\n",
              "      <th>4</th>\n",
              "      <td>11862</td>\n",
              "      <td>Steve Martin, Diane Keaton, Martin Short, Kimb...</td>\n",
              "      <td>Alan Silvestri</td>\n",
              "    </tr>\n",
              "  </tbody>\n",
              "</table>\n",
              "</div>\n",
              "      <button class=\"colab-df-convert\" onclick=\"convertToInteractive('df-b897b515-000a-4c3e-84dd-051970a21577')\"\n",
              "              title=\"Convert this dataframe to an interactive table.\"\n",
              "              style=\"display:none;\">\n",
              "        \n",
              "  <svg xmlns=\"http://www.w3.org/2000/svg\" height=\"24px\"viewBox=\"0 0 24 24\"\n",
              "       width=\"24px\">\n",
              "    <path d=\"M0 0h24v24H0V0z\" fill=\"none\"/>\n",
              "    <path d=\"M18.56 5.44l.94 2.06.94-2.06 2.06-.94-2.06-.94-.94-2.06-.94 2.06-2.06.94zm-11 1L8.5 8.5l.94-2.06 2.06-.94-2.06-.94L8.5 2.5l-.94 2.06-2.06.94zm10 10l.94 2.06.94-2.06 2.06-.94-2.06-.94-.94-2.06-.94 2.06-2.06.94z\"/><path d=\"M17.41 7.96l-1.37-1.37c-.4-.4-.92-.59-1.43-.59-.52 0-1.04.2-1.43.59L10.3 9.45l-7.72 7.72c-.78.78-.78 2.05 0 2.83L4 21.41c.39.39.9.59 1.41.59.51 0 1.02-.2 1.41-.59l7.78-7.78 2.81-2.81c.8-.78.8-2.07 0-2.86zM5.41 20L4 18.59l7.72-7.72 1.47 1.35L5.41 20z\"/>\n",
              "  </svg>\n",
              "      </button>\n",
              "      \n",
              "  <style>\n",
              "    .colab-df-container {\n",
              "      display:flex;\n",
              "      flex-wrap:wrap;\n",
              "      gap: 12px;\n",
              "    }\n",
              "\n",
              "    .colab-df-convert {\n",
              "      background-color: #E8F0FE;\n",
              "      border: none;\n",
              "      border-radius: 50%;\n",
              "      cursor: pointer;\n",
              "      display: none;\n",
              "      fill: #1967D2;\n",
              "      height: 32px;\n",
              "      padding: 0 0 0 0;\n",
              "      width: 32px;\n",
              "    }\n",
              "\n",
              "    .colab-df-convert:hover {\n",
              "      background-color: #E2EBFA;\n",
              "      box-shadow: 0px 1px 2px rgba(60, 64, 67, 0.3), 0px 1px 3px 1px rgba(60, 64, 67, 0.15);\n",
              "      fill: #174EA6;\n",
              "    }\n",
              "\n",
              "    [theme=dark] .colab-df-convert {\n",
              "      background-color: #3B4455;\n",
              "      fill: #D2E3FC;\n",
              "    }\n",
              "\n",
              "    [theme=dark] .colab-df-convert:hover {\n",
              "      background-color: #434B5C;\n",
              "      box-shadow: 0px 1px 3px 1px rgba(0, 0, 0, 0.15);\n",
              "      filter: drop-shadow(0px 1px 2px rgba(0, 0, 0, 0.3));\n",
              "      fill: #FFFFFF;\n",
              "    }\n",
              "  </style>\n",
              "\n",
              "      <script>\n",
              "        const buttonEl =\n",
              "          document.querySelector('#df-b897b515-000a-4c3e-84dd-051970a21577 button.colab-df-convert');\n",
              "        buttonEl.style.display =\n",
              "          google.colab.kernel.accessAllowed ? 'block' : 'none';\n",
              "\n",
              "        async function convertToInteractive(key) {\n",
              "          const element = document.querySelector('#df-b897b515-000a-4c3e-84dd-051970a21577');\n",
              "          const dataTable =\n",
              "            await google.colab.kernel.invokeFunction('convertToInteractive',\n",
              "                                                     [key], {});\n",
              "          if (!dataTable) return;\n",
              "\n",
              "          const docLinkHtml = 'Like what you see? Visit the ' +\n",
              "            '<a target=\"_blank\" href=https://colab.research.google.com/notebooks/data_table.ipynb>data table notebook</a>'\n",
              "            + ' to learn more about interactive tables.';\n",
              "          element.innerHTML = '';\n",
              "          dataTable['output_type'] = 'display_data';\n",
              "          await google.colab.output.renderOutput(dataTable, element);\n",
              "          const docLink = document.createElement('div');\n",
              "          docLink.innerHTML = docLinkHtml;\n",
              "          element.appendChild(docLink);\n",
              "        }\n",
              "      </script>\n",
              "    </div>\n",
              "  </div>\n",
              "  "
            ],
            "text/plain": [
              "      id                                         cast_names director_names_nan\n",
              "0    862  Tom Hanks, Tim Allen, Don Rickles, Jim Varney,...      John Lasseter\n",
              "1   8844  Robin Williams, Jonathan Hyde, Kirsten Dunst, ...    Larry J. Franco\n",
              "2  15602  Walter Matthau, Jack Lemmon, Ann-Margret, Soph...      Howard Deutch\n",
              "3  31357  Whitney Houston, Angela Bassett, Loretta Devin...    Forest Whitaker\n",
              "4  11862  Steve Martin, Diane Keaton, Martin Short, Kimb...     Alan Silvestri"
            ]
          },
          "execution_count": 23,
          "metadata": {},
          "output_type": "execute_result"
        }
      ],
      "source": [
        "cleaned_credits.head()"
      ]
    },
    {
      "cell_type": "code",
      "execution_count": null,
      "metadata": {
        "colab": {
          "background_save": true
        },
        "id": "mKqli3oE2Etl",
        "outputId": "7d2ceff9-7f18-428f-c85a-cc510f24788d"
      },
      "outputs": [
        {
          "data": {
            "text/plain": [
              "(44705, 3)"
            ]
          },
          "execution_count": 24,
          "metadata": {},
          "output_type": "execute_result"
        }
      ],
      "source": [
        "cleaned_credits.shape"
      ]
    },
    {
      "cell_type": "code",
      "execution_count": null,
      "metadata": {
        "colab": {
          "background_save": true
        },
        "id": "3kAlrviC2Etl"
      },
      "outputs": [],
      "source": []
    },
    {
      "cell_type": "code",
      "execution_count": null,
      "metadata": {
        "colab": {
          "background_save": true
        },
        "id": "pltnxsgR2Etm"
      },
      "outputs": [],
      "source": []
    },
    {
      "cell_type": "markdown",
      "metadata": {
        "id": "B4il-8IJ2Etm"
      },
      "source": [
        "# Feature Engineering on movies"
      ]
    },
    {
      "cell_type": "code",
      "execution_count": null,
      "metadata": {
        "colab": {
          "background_save": true
        },
        "id": "wpnAlF5q2Etm"
      },
      "outputs": [],
      "source": [
        "df = pd.read_csv(\"movies_metadata.csv\",usecols=['id','genres','original_language','overview','production_companies','production_countries','title'])"
      ]
    },
    {
      "cell_type": "code",
      "execution_count": null,
      "metadata": {
        "colab": {
          "background_save": true
        },
        "id": "fNrHpHyu2Etm",
        "outputId": "d54578e1-bd25-45be-a72b-afad31f599aa"
      },
      "outputs": [
        {
          "data": {
            "text/plain": [
              "(45466, 7)"
            ]
          },
          "execution_count": 26,
          "metadata": {},
          "output_type": "execute_result"
        }
      ],
      "source": [
        "df.shape"
      ]
    },
    {
      "cell_type": "code",
      "execution_count": null,
      "metadata": {
        "id": "OInm2Dzr2Etn",
        "outputId": "2dd57050-6552-42f2-bfeb-d97d93182eff"
      },
      "outputs": [
        {
          "data": {
            "text/html": "<div>\n<style scoped>\n    .dataframe tbody tr th:only-of-type {\n        vertical-align: middle;\n    }\n\n    .dataframe tbody tr th {\n        vertical-align: top;\n    }\n\n    .dataframe thead th {\n        text-align: right;\n    }\n</style>\n<table border=\"1\" class=\"dataframe\">\n  <thead>\n    <tr style=\"text-align: right;\">\n      <th></th>\n      <th>genres</th>\n      <th>id</th>\n      <th>original_language</th>\n      <th>overview</th>\n      <th>production_companies</th>\n      <th>production_countries</th>\n      <th>title</th>\n    </tr>\n  </thead>\n  <tbody>\n    <tr>\n      <th>0</th>\n      <td>[{'id': 16, 'name': 'Animation'}, {'id': 35, '...</td>\n      <td>862</td>\n      <td>en</td>\n      <td>Led by Woody, Andy's toys live happily in his ...</td>\n      <td>[{'name': 'Pixar Animation Studios', 'id': 3}]</td>\n      <td>[{'iso_3166_1': 'US', 'name': 'United States o...</td>\n      <td>Toy Story</td>\n    </tr>\n    <tr>\n      <th>1</th>\n      <td>[{'id': 12, 'name': 'Adventure'}, {'id': 14, '...</td>\n      <td>8844</td>\n      <td>en</td>\n      <td>When siblings Judy and Peter discover an encha...</td>\n      <td>[{'name': 'TriStar Pictures', 'id': 559}, {'na...</td>\n      <td>[{'iso_3166_1': 'US', 'name': 'United States o...</td>\n      <td>Jumanji</td>\n    </tr>\n    <tr>\n      <th>2</th>\n      <td>[{'id': 10749, 'name': 'Romance'}, {'id': 35, ...</td>\n      <td>15602</td>\n      <td>en</td>\n      <td>A family wedding reignites the ancient feud be...</td>\n      <td>[{'name': 'Warner Bros.', 'id': 6194}, {'name'...</td>\n      <td>[{'iso_3166_1': 'US', 'name': 'United States o...</td>\n      <td>Grumpier Old Men</td>\n    </tr>\n    <tr>\n      <th>3</th>\n      <td>[{'id': 35, 'name': 'Comedy'}, {'id': 18, 'nam...</td>\n      <td>31357</td>\n      <td>en</td>\n      <td>Cheated on, mistreated and stepped on, the wom...</td>\n      <td>[{'name': 'Twentieth Century Fox Film Corporat...</td>\n      <td>[{'iso_3166_1': 'US', 'name': 'United States o...</td>\n      <td>Waiting to Exhale</td>\n    </tr>\n    <tr>\n      <th>4</th>\n      <td>[{'id': 35, 'name': 'Comedy'}]</td>\n      <td>11862</td>\n      <td>en</td>\n      <td>Just when George Banks has recovered from his ...</td>\n      <td>[{'name': 'Sandollar Productions', 'id': 5842}...</td>\n      <td>[{'iso_3166_1': 'US', 'name': 'United States o...</td>\n      <td>Father of the Bride Part II</td>\n    </tr>\n  </tbody>\n</table>\n</div>",
            "text/plain": "                                              genres     id original_language  \\\n0  [{'id': 16, 'name': 'Animation'}, {'id': 35, '...    862                en   \n1  [{'id': 12, 'name': 'Adventure'}, {'id': 14, '...   8844                en   \n2  [{'id': 10749, 'name': 'Romance'}, {'id': 35, ...  15602                en   \n3  [{'id': 35, 'name': 'Comedy'}, {'id': 18, 'nam...  31357                en   \n4                     [{'id': 35, 'name': 'Comedy'}]  11862                en   \n\n                                            overview  \\\n0  Led by Woody, Andy's toys live happily in his ...   \n1  When siblings Judy and Peter discover an encha...   \n2  A family wedding reignites the ancient feud be...   \n3  Cheated on, mistreated and stepped on, the wom...   \n4  Just when George Banks has recovered from his ...   \n\n                                production_companies  \\\n0     [{'name': 'Pixar Animation Studios', 'id': 3}]   \n1  [{'name': 'TriStar Pictures', 'id': 559}, {'na...   \n2  [{'name': 'Warner Bros.', 'id': 6194}, {'name'...   \n3  [{'name': 'Twentieth Century Fox Film Corporat...   \n4  [{'name': 'Sandollar Productions', 'id': 5842}...   \n\n                                production_countries  \\\n0  [{'iso_3166_1': 'US', 'name': 'United States o...   \n1  [{'iso_3166_1': 'US', 'name': 'United States o...   \n2  [{'iso_3166_1': 'US', 'name': 'United States o...   \n3  [{'iso_3166_1': 'US', 'name': 'United States o...   \n4  [{'iso_3166_1': 'US', 'name': 'United States o...   \n\n                         title  \n0                    Toy Story  \n1                      Jumanji  \n2             Grumpier Old Men  \n3            Waiting to Exhale  \n4  Father of the Bride Part II  "
          },
          "execution_count": 23,
          "metadata": {},
          "output_type": "execute_result"
        }
      ],
      "source": [
        "df.head()"
      ]
    },
    {
      "cell_type": "code",
      "execution_count": null,
      "metadata": {
        "id": "sXUQkGZx2Etn",
        "outputId": "d0a283ca-ab1f-4fbe-b1b8-46e1a3764432"
      },
      "outputs": [
        {
          "name": "stdout",
          "output_type": "stream",
          "text": [
            "<class 'pandas.core.frame.DataFrame'>\n",
            "RangeIndex: 45466 entries, 0 to 45465\n",
            "Data columns (total 7 columns):\n",
            " #   Column                Non-Null Count  Dtype \n",
            "---  ------                --------------  ----- \n",
            " 0   genres                45466 non-null  object\n",
            " 1   id                    45466 non-null  object\n",
            " 2   original_language     45455 non-null  object\n",
            " 3   overview              44512 non-null  object\n",
            " 4   production_companies  45463 non-null  object\n",
            " 5   production_countries  45463 non-null  object\n",
            " 6   title                 45460 non-null  object\n",
            "dtypes: object(7)\n",
            "memory usage: 2.4+ MB\n"
          ]
        }
      ],
      "source": [
        "df.info()"
      ]
    },
    {
      "cell_type": "code",
      "execution_count": null,
      "metadata": {
        "id": "3ETmtVWR2Eto",
        "outputId": "e1e37d6b-3d31-4615-965c-ecd2f76323b5"
      },
      "outputs": [
        {
          "data": {
            "text/plain": "30"
          },
          "execution_count": 25,
          "metadata": {},
          "output_type": "execute_result"
        }
      ],
      "source": [
        "df.duplicated().sum()"
      ]
    },
    {
      "cell_type": "code",
      "execution_count": null,
      "metadata": {
        "id": "1plxyn4x2Eto"
      },
      "outputs": [],
      "source": [
        "df.drop_duplicates(inplace=True)"
      ]
    },
    {
      "cell_type": "code",
      "execution_count": null,
      "metadata": {
        "id": "i5yrQIql2Eto",
        "outputId": "49a58a2b-6da2-44d1-8f6c-75d9e066b478"
      },
      "outputs": [
        {
          "data": {
            "text/plain": "genres                  0.000000\nid                      0.000000\noriginal_language       0.024210\noverview                2.099657\nproduction_companies    0.006603\nproduction_countries    0.006603\ntitle                   0.013205\ndtype: float64"
          },
          "execution_count": 27,
          "metadata": {},
          "output_type": "execute_result"
        }
      ],
      "source": [
        "df.isnull().sum()/df.shape[0]*100"
      ]
    },
    {
      "cell_type": "code",
      "execution_count": null,
      "metadata": {
        "id": "psWY1iHk2Etp",
        "outputId": "f925815d-e7d1-4d4b-c8c5-c27f75d8128c"
      },
      "outputs": [
        {
          "data": {
            "text/plain": "44661"
          },
          "execution_count": 28,
          "metadata": {},
          "output_type": "execute_result"
        }
      ],
      "source": [
        "cleaned_credits['id'].nunique()"
      ]
    },
    {
      "cell_type": "code",
      "execution_count": null,
      "metadata": {
        "id": "J0Z6kzgd2Etp",
        "outputId": "e59559ab-1d1f-4cfa-9305-c33e69ac6762"
      },
      "outputs": [
        {
          "data": {
            "text/plain": "44661"
          },
          "execution_count": 29,
          "metadata": {},
          "output_type": "execute_result"
        }
      ],
      "source": [
        "len(cleaned_credits.groupby(by='id'))"
      ]
    },
    {
      "cell_type": "code",
      "execution_count": null,
      "metadata": {
        "id": "t8-S7-wO2Etp",
        "outputId": "79f896ad-3a77-47e2-83e1-71c3ed7513a9"
      },
      "outputs": [
        {
          "data": {
            "text/plain": "45436"
          },
          "execution_count": 30,
          "metadata": {},
          "output_type": "execute_result"
        }
      ],
      "source": [
        "df['id'].nunique()"
      ]
    },
    {
      "cell_type": "code",
      "execution_count": null,
      "metadata": {
        "id": "XYv49XiH2Etp",
        "outputId": "3b6c686d-55df-4a83-a6f4-efd3ca04b620"
      },
      "outputs": [
        {
          "data": {
            "text/plain": "45436"
          },
          "execution_count": 31,
          "metadata": {},
          "output_type": "execute_result"
        }
      ],
      "source": [
        "len(df.groupby(by='id'))"
      ]
    },
    {
      "cell_type": "code",
      "execution_count": null,
      "metadata": {
        "id": "-BlYWTOS2Etq",
        "outputId": "db7ff55a-6f81-40cf-8c0c-e70c46bc67d0"
      },
      "outputs": [
        {
          "data": {
            "text/plain": "\"[{'id': 16, 'name': 'Animation'}, {'id': 35, 'name': 'Comedy'}, {'id': 10751, 'name': 'Family'}]\""
          },
          "execution_count": 32,
          "metadata": {},
          "output_type": "execute_result"
        }
      ],
      "source": [
        "df['genres'][0]"
      ]
    },
    {
      "cell_type": "code",
      "execution_count": null,
      "metadata": {
        "id": "DUb_QP1n2Etq"
      },
      "outputs": [],
      "source": [
        "df['genres'] = [\", \".join([i['name'] for i in eval(j)]) for j in df['genres']]"
      ]
    },
    {
      "cell_type": "code",
      "execution_count": null,
      "metadata": {
        "id": "LxD6ZH8t2Etq"
      },
      "outputs": [],
      "source": [
        "df.drop(['production_companies','production_countries'],axis=1,inplace=True)"
      ]
    },
    {
      "cell_type": "code",
      "execution_count": null,
      "metadata": {
        "id": "bZsFbrbQ2Etq",
        "outputId": "ee3f7874-3db8-4999-b2e1-35be28839301"
      },
      "outputs": [
        {
          "data": {
            "text/html": "<div>\n<style scoped>\n    .dataframe tbody tr th:only-of-type {\n        vertical-align: middle;\n    }\n\n    .dataframe tbody tr th {\n        vertical-align: top;\n    }\n\n    .dataframe thead th {\n        text-align: right;\n    }\n</style>\n<table border=\"1\" class=\"dataframe\">\n  <thead>\n    <tr style=\"text-align: right;\">\n      <th></th>\n      <th>genres</th>\n      <th>id</th>\n      <th>original_language</th>\n      <th>overview</th>\n      <th>title</th>\n    </tr>\n  </thead>\n  <tbody>\n    <tr>\n      <th>0</th>\n      <td>Animation, Comedy, Family</td>\n      <td>862</td>\n      <td>en</td>\n      <td>Led by Woody, Andy's toys live happily in his ...</td>\n      <td>Toy Story</td>\n    </tr>\n    <tr>\n      <th>1</th>\n      <td>Adventure, Fantasy, Family</td>\n      <td>8844</td>\n      <td>en</td>\n      <td>When siblings Judy and Peter discover an encha...</td>\n      <td>Jumanji</td>\n    </tr>\n    <tr>\n      <th>2</th>\n      <td>Romance, Comedy</td>\n      <td>15602</td>\n      <td>en</td>\n      <td>A family wedding reignites the ancient feud be...</td>\n      <td>Grumpier Old Men</td>\n    </tr>\n    <tr>\n      <th>3</th>\n      <td>Comedy, Drama, Romance</td>\n      <td>31357</td>\n      <td>en</td>\n      <td>Cheated on, mistreated and stepped on, the wom...</td>\n      <td>Waiting to Exhale</td>\n    </tr>\n    <tr>\n      <th>4</th>\n      <td>Comedy</td>\n      <td>11862</td>\n      <td>en</td>\n      <td>Just when George Banks has recovered from his ...</td>\n      <td>Father of the Bride Part II</td>\n    </tr>\n  </tbody>\n</table>\n</div>",
            "text/plain": "                       genres     id original_language  \\\n0   Animation, Comedy, Family    862                en   \n1  Adventure, Fantasy, Family   8844                en   \n2             Romance, Comedy  15602                en   \n3      Comedy, Drama, Romance  31357                en   \n4                      Comedy  11862                en   \n\n                                            overview  \\\n0  Led by Woody, Andy's toys live happily in his ...   \n1  When siblings Judy and Peter discover an encha...   \n2  A family wedding reignites the ancient feud be...   \n3  Cheated on, mistreated and stepped on, the wom...   \n4  Just when George Banks has recovered from his ...   \n\n                         title  \n0                    Toy Story  \n1                      Jumanji  \n2             Grumpier Old Men  \n3            Waiting to Exhale  \n4  Father of the Bride Part II  "
          },
          "execution_count": 35,
          "metadata": {},
          "output_type": "execute_result"
        }
      ],
      "source": [
        "df.head()"
      ]
    },
    {
      "cell_type": "code",
      "execution_count": null,
      "metadata": {
        "id": "HAMqa66X2Etq"
      },
      "outputs": [],
      "source": [
        "cleaned_movies = df"
      ]
    },
    {
      "cell_type": "code",
      "execution_count": null,
      "metadata": {
        "id": "Up4Y4Lz32Etr"
      },
      "outputs": [],
      "source": []
    },
    {
      "cell_type": "markdown",
      "metadata": {
        "id": "awDuJlZB2Etr"
      },
      "source": [
        "# Combine credit and movie dataset"
      ]
    },
    {
      "cell_type": "code",
      "execution_count": null,
      "metadata": {
        "id": "ylufyRoQ2Etr",
        "outputId": "24a397a1-559f-48c1-ea32-0c884245a4d4"
      },
      "outputs": [
        {
          "data": {
            "text/html": "<div>\n<style scoped>\n    .dataframe tbody tr th:only-of-type {\n        vertical-align: middle;\n    }\n\n    .dataframe tbody tr th {\n        vertical-align: top;\n    }\n\n    .dataframe thead th {\n        text-align: right;\n    }\n</style>\n<table border=\"1\" class=\"dataframe\">\n  <thead>\n    <tr style=\"text-align: right;\">\n      <th></th>\n      <th>id</th>\n      <th>cast_names</th>\n      <th>director_names_nan</th>\n    </tr>\n  </thead>\n  <tbody>\n    <tr>\n      <th>0</th>\n      <td>862</td>\n      <td>Tom Hanks, Tim Allen, Don Rickles, Jim Varney,...</td>\n      <td>John Lasseter</td>\n    </tr>\n    <tr>\n      <th>1</th>\n      <td>8844</td>\n      <td>Robin Williams, Jonathan Hyde, Kirsten Dunst, ...</td>\n      <td>Larry J. Franco</td>\n    </tr>\n    <tr>\n      <th>2</th>\n      <td>15602</td>\n      <td>Walter Matthau, Jack Lemmon, Ann-Margret, Soph...</td>\n      <td>Howard Deutch</td>\n    </tr>\n    <tr>\n      <th>3</th>\n      <td>31357</td>\n      <td>Whitney Houston, Angela Bassett, Loretta Devin...</td>\n      <td>Forest Whitaker</td>\n    </tr>\n    <tr>\n      <th>4</th>\n      <td>11862</td>\n      <td>Steve Martin, Diane Keaton, Martin Short, Kimb...</td>\n      <td>Alan Silvestri</td>\n    </tr>\n  </tbody>\n</table>\n</div>",
            "text/plain": "      id                                         cast_names director_names_nan\n0    862  Tom Hanks, Tim Allen, Don Rickles, Jim Varney,...      John Lasseter\n1   8844  Robin Williams, Jonathan Hyde, Kirsten Dunst, ...    Larry J. Franco\n2  15602  Walter Matthau, Jack Lemmon, Ann-Margret, Soph...      Howard Deutch\n3  31357  Whitney Houston, Angela Bassett, Loretta Devin...    Forest Whitaker\n4  11862  Steve Martin, Diane Keaton, Martin Short, Kimb...     Alan Silvestri"
          },
          "execution_count": 37,
          "metadata": {},
          "output_type": "execute_result"
        }
      ],
      "source": [
        "cleaned_credits.head()"
      ]
    },
    {
      "cell_type": "code",
      "execution_count": null,
      "metadata": {
        "id": "mI5jeOco2Etr",
        "outputId": "3bb0385b-6267-4e0f-a2ad-5d79ba05e853"
      },
      "outputs": [
        {
          "name": "stdout",
          "output_type": "stream",
          "text": [
            "<class 'pandas.core.frame.DataFrame'>\n",
            "Int64Index: 44705 entries, 0 to 45475\n",
            "Data columns (total 3 columns):\n",
            " #   Column              Non-Null Count  Dtype \n",
            "---  ------              --------------  ----- \n",
            " 0   id                  44705 non-null  int64 \n",
            " 1   cast_names          44705 non-null  object\n",
            " 2   director_names_nan  44705 non-null  object\n",
            "dtypes: int64(1), object(2)\n",
            "memory usage: 1.4+ MB\n"
          ]
        }
      ],
      "source": [
        "cleaned_credits.info()"
      ]
    },
    {
      "cell_type": "code",
      "execution_count": null,
      "metadata": {
        "id": "8y3wuavI2Etr",
        "outputId": "66aec96d-86a5-402d-d3da-3f145b91b2db"
      },
      "outputs": [
        {
          "data": {
            "text/html": "<div>\n<style scoped>\n    .dataframe tbody tr th:only-of-type {\n        vertical-align: middle;\n    }\n\n    .dataframe tbody tr th {\n        vertical-align: top;\n    }\n\n    .dataframe thead th {\n        text-align: right;\n    }\n</style>\n<table border=\"1\" class=\"dataframe\">\n  <thead>\n    <tr style=\"text-align: right;\">\n      <th></th>\n      <th>genres</th>\n      <th>id</th>\n      <th>original_language</th>\n      <th>overview</th>\n      <th>title</th>\n    </tr>\n  </thead>\n  <tbody>\n    <tr>\n      <th>0</th>\n      <td>Animation, Comedy, Family</td>\n      <td>862</td>\n      <td>en</td>\n      <td>Led by Woody, Andy's toys live happily in his ...</td>\n      <td>Toy Story</td>\n    </tr>\n    <tr>\n      <th>1</th>\n      <td>Adventure, Fantasy, Family</td>\n      <td>8844</td>\n      <td>en</td>\n      <td>When siblings Judy and Peter discover an encha...</td>\n      <td>Jumanji</td>\n    </tr>\n    <tr>\n      <th>2</th>\n      <td>Romance, Comedy</td>\n      <td>15602</td>\n      <td>en</td>\n      <td>A family wedding reignites the ancient feud be...</td>\n      <td>Grumpier Old Men</td>\n    </tr>\n    <tr>\n      <th>3</th>\n      <td>Comedy, Drama, Romance</td>\n      <td>31357</td>\n      <td>en</td>\n      <td>Cheated on, mistreated and stepped on, the wom...</td>\n      <td>Waiting to Exhale</td>\n    </tr>\n    <tr>\n      <th>4</th>\n      <td>Comedy</td>\n      <td>11862</td>\n      <td>en</td>\n      <td>Just when George Banks has recovered from his ...</td>\n      <td>Father of the Bride Part II</td>\n    </tr>\n  </tbody>\n</table>\n</div>",
            "text/plain": "                       genres     id original_language  \\\n0   Animation, Comedy, Family    862                en   \n1  Adventure, Fantasy, Family   8844                en   \n2             Romance, Comedy  15602                en   \n3      Comedy, Drama, Romance  31357                en   \n4                      Comedy  11862                en   \n\n                                            overview  \\\n0  Led by Woody, Andy's toys live happily in his ...   \n1  When siblings Judy and Peter discover an encha...   \n2  A family wedding reignites the ancient feud be...   \n3  Cheated on, mistreated and stepped on, the wom...   \n4  Just when George Banks has recovered from his ...   \n\n                         title  \n0                    Toy Story  \n1                      Jumanji  \n2             Grumpier Old Men  \n3            Waiting to Exhale  \n4  Father of the Bride Part II  "
          },
          "execution_count": 39,
          "metadata": {},
          "output_type": "execute_result"
        }
      ],
      "source": [
        "cleaned_movies.head()"
      ]
    },
    {
      "cell_type": "code",
      "execution_count": null,
      "metadata": {
        "id": "3Jiy8pkb2Ets",
        "outputId": "0f93beb0-e3fa-4abb-8b7a-e9349d33e4fa"
      },
      "outputs": [
        {
          "name": "stdout",
          "output_type": "stream",
          "text": [
            "<class 'pandas.core.frame.DataFrame'>\n",
            "Int64Index: 45436 entries, 0 to 45465\n",
            "Data columns (total 5 columns):\n",
            " #   Column             Non-Null Count  Dtype \n",
            "---  ------             --------------  ----- \n",
            " 0   genres             45436 non-null  object\n",
            " 1   id                 45436 non-null  object\n",
            " 2   original_language  45425 non-null  object\n",
            " 3   overview           44482 non-null  object\n",
            " 4   title              45430 non-null  object\n",
            "dtypes: object(5)\n",
            "memory usage: 3.1+ MB\n"
          ]
        }
      ],
      "source": [
        "cleaned_movies.info()"
      ]
    },
    {
      "cell_type": "code",
      "execution_count": null,
      "metadata": {
        "id": "Trgzlzmu2Ets"
      },
      "outputs": [],
      "source": [
        "cleaned_movies['id'] = [0 if '-' in i else int(i) for i in cleaned_movies['id']]"
      ]
    },
    {
      "cell_type": "code",
      "execution_count": null,
      "metadata": {
        "id": "oW9SZA-u2Ets"
      },
      "outputs": [],
      "source": [
        "df = pd.concat([cleaned_movies, cleaned_credits], axis=1, join='inner')"
      ]
    },
    {
      "cell_type": "code",
      "execution_count": null,
      "metadata": {
        "id": "JSyrk2HN2Ets",
        "outputId": "56a8ad39-b3a5-43ae-89ca-6d8e11751245"
      },
      "outputs": [
        {
          "data": {
            "text/plain": "genres                  0\nid                      0\noriginal_language      11\noverview              923\ntitle                   5\nid                      0\ncast_names              0\ndirector_names_nan      0\ndtype: int64"
          },
          "execution_count": 43,
          "metadata": {},
          "output_type": "execute_result"
        }
      ],
      "source": [
        "df.isnull().sum()"
      ]
    },
    {
      "cell_type": "code",
      "execution_count": null,
      "metadata": {
        "id": "5xgfUIV72Ets"
      },
      "outputs": [],
      "source": [
        "df.dropna(inplace=True)"
      ]
    },
    {
      "cell_type": "code",
      "execution_count": null,
      "metadata": {
        "id": "Wni-3kt12Ett",
        "outputId": "af1c4f1d-6569-48ad-e6a5-d4c8a464a22f"
      },
      "outputs": [
        {
          "data": {
            "text/plain": "(43727, 8)"
          },
          "execution_count": 45,
          "metadata": {},
          "output_type": "execute_result"
        }
      ],
      "source": [
        "df.shape"
      ]
    },
    {
      "cell_type": "code",
      "execution_count": null,
      "metadata": {
        "id": "jIlaBN8N2Ett",
        "outputId": "4e0de816-1d3a-4341-865d-3d7e00c97c8f"
      },
      "outputs": [
        {
          "data": {
            "text/html": "<div>\n<style scoped>\n    .dataframe tbody tr th:only-of-type {\n        vertical-align: middle;\n    }\n\n    .dataframe tbody tr th {\n        vertical-align: top;\n    }\n\n    .dataframe thead th {\n        text-align: right;\n    }\n</style>\n<table border=\"1\" class=\"dataframe\">\n  <thead>\n    <tr style=\"text-align: right;\">\n      <th></th>\n      <th>genres</th>\n      <th>id</th>\n      <th>original_language</th>\n      <th>overview</th>\n      <th>title</th>\n      <th>id</th>\n      <th>cast_names</th>\n      <th>director_names_nan</th>\n    </tr>\n  </thead>\n  <tbody>\n    <tr>\n      <th>0</th>\n      <td>Animation, Comedy, Family</td>\n      <td>862</td>\n      <td>en</td>\n      <td>Led by Woody, Andy's toys live happily in his ...</td>\n      <td>Toy Story</td>\n      <td>862</td>\n      <td>Tom Hanks, Tim Allen, Don Rickles, Jim Varney,...</td>\n      <td>John Lasseter</td>\n    </tr>\n    <tr>\n      <th>1</th>\n      <td>Adventure, Fantasy, Family</td>\n      <td>8844</td>\n      <td>en</td>\n      <td>When siblings Judy and Peter discover an encha...</td>\n      <td>Jumanji</td>\n      <td>8844</td>\n      <td>Robin Williams, Jonathan Hyde, Kirsten Dunst, ...</td>\n      <td>Larry J. Franco</td>\n    </tr>\n    <tr>\n      <th>2</th>\n      <td>Romance, Comedy</td>\n      <td>15602</td>\n      <td>en</td>\n      <td>A family wedding reignites the ancient feud be...</td>\n      <td>Grumpier Old Men</td>\n      <td>15602</td>\n      <td>Walter Matthau, Jack Lemmon, Ann-Margret, Soph...</td>\n      <td>Howard Deutch</td>\n    </tr>\n    <tr>\n      <th>3</th>\n      <td>Comedy, Drama, Romance</td>\n      <td>31357</td>\n      <td>en</td>\n      <td>Cheated on, mistreated and stepped on, the wom...</td>\n      <td>Waiting to Exhale</td>\n      <td>31357</td>\n      <td>Whitney Houston, Angela Bassett, Loretta Devin...</td>\n      <td>Forest Whitaker</td>\n    </tr>\n    <tr>\n      <th>4</th>\n      <td>Comedy</td>\n      <td>11862</td>\n      <td>en</td>\n      <td>Just when George Banks has recovered from his ...</td>\n      <td>Father of the Bride Part II</td>\n      <td>11862</td>\n      <td>Steve Martin, Diane Keaton, Martin Short, Kimb...</td>\n      <td>Alan Silvestri</td>\n    </tr>\n  </tbody>\n</table>\n</div>",
            "text/plain": "                       genres     id original_language  \\\n0   Animation, Comedy, Family    862                en   \n1  Adventure, Fantasy, Family   8844                en   \n2             Romance, Comedy  15602                en   \n3      Comedy, Drama, Romance  31357                en   \n4                      Comedy  11862                en   \n\n                                            overview  \\\n0  Led by Woody, Andy's toys live happily in his ...   \n1  When siblings Judy and Peter discover an encha...   \n2  A family wedding reignites the ancient feud be...   \n3  Cheated on, mistreated and stepped on, the wom...   \n4  Just when George Banks has recovered from his ...   \n\n                         title     id  \\\n0                    Toy Story    862   \n1                      Jumanji   8844   \n2             Grumpier Old Men  15602   \n3            Waiting to Exhale  31357   \n4  Father of the Bride Part II  11862   \n\n                                          cast_names director_names_nan  \n0  Tom Hanks, Tim Allen, Don Rickles, Jim Varney,...      John Lasseter  \n1  Robin Williams, Jonathan Hyde, Kirsten Dunst, ...    Larry J. Franco  \n2  Walter Matthau, Jack Lemmon, Ann-Margret, Soph...      Howard Deutch  \n3  Whitney Houston, Angela Bassett, Loretta Devin...    Forest Whitaker  \n4  Steve Martin, Diane Keaton, Martin Short, Kimb...     Alan Silvestri  "
          },
          "execution_count": 46,
          "metadata": {},
          "output_type": "execute_result"
        }
      ],
      "source": [
        "df.head()"
      ]
    },
    {
      "cell_type": "code",
      "execution_count": null,
      "metadata": {
        "id": "tM-VGRes2Ett"
      },
      "outputs": [],
      "source": [
        "df.drop('id',axis=1,inplace=True)"
      ]
    },
    {
      "cell_type": "code",
      "execution_count": null,
      "metadata": {
        "id": "XZyiu6LN2Ett",
        "outputId": "37d9744d-4ba7-4188-c7e0-e7535b679c82"
      },
      "outputs": [
        {
          "data": {
            "text/html": "<div>\n<style scoped>\n    .dataframe tbody tr th:only-of-type {\n        vertical-align: middle;\n    }\n\n    .dataframe tbody tr th {\n        vertical-align: top;\n    }\n\n    .dataframe thead th {\n        text-align: right;\n    }\n</style>\n<table border=\"1\" class=\"dataframe\">\n  <thead>\n    <tr style=\"text-align: right;\">\n      <th></th>\n      <th>genres</th>\n      <th>original_language</th>\n      <th>overview</th>\n      <th>title</th>\n      <th>cast_names</th>\n      <th>director_names_nan</th>\n    </tr>\n  </thead>\n  <tbody>\n    <tr>\n      <th>0</th>\n      <td>Animation, Comedy, Family</td>\n      <td>en</td>\n      <td>Led by Woody, Andy's toys live happily in his ...</td>\n      <td>Toy Story</td>\n      <td>Tom Hanks, Tim Allen, Don Rickles, Jim Varney,...</td>\n      <td>John Lasseter</td>\n    </tr>\n    <tr>\n      <th>1</th>\n      <td>Adventure, Fantasy, Family</td>\n      <td>en</td>\n      <td>When siblings Judy and Peter discover an encha...</td>\n      <td>Jumanji</td>\n      <td>Robin Williams, Jonathan Hyde, Kirsten Dunst, ...</td>\n      <td>Larry J. Franco</td>\n    </tr>\n    <tr>\n      <th>2</th>\n      <td>Romance, Comedy</td>\n      <td>en</td>\n      <td>A family wedding reignites the ancient feud be...</td>\n      <td>Grumpier Old Men</td>\n      <td>Walter Matthau, Jack Lemmon, Ann-Margret, Soph...</td>\n      <td>Howard Deutch</td>\n    </tr>\n    <tr>\n      <th>3</th>\n      <td>Comedy, Drama, Romance</td>\n      <td>en</td>\n      <td>Cheated on, mistreated and stepped on, the wom...</td>\n      <td>Waiting to Exhale</td>\n      <td>Whitney Houston, Angela Bassett, Loretta Devin...</td>\n      <td>Forest Whitaker</td>\n    </tr>\n    <tr>\n      <th>4</th>\n      <td>Comedy</td>\n      <td>en</td>\n      <td>Just when George Banks has recovered from his ...</td>\n      <td>Father of the Bride Part II</td>\n      <td>Steve Martin, Diane Keaton, Martin Short, Kimb...</td>\n      <td>Alan Silvestri</td>\n    </tr>\n  </tbody>\n</table>\n</div>",
            "text/plain": "                       genres original_language  \\\n0   Animation, Comedy, Family                en   \n1  Adventure, Fantasy, Family                en   \n2             Romance, Comedy                en   \n3      Comedy, Drama, Romance                en   \n4                      Comedy                en   \n\n                                            overview  \\\n0  Led by Woody, Andy's toys live happily in his ...   \n1  When siblings Judy and Peter discover an encha...   \n2  A family wedding reignites the ancient feud be...   \n3  Cheated on, mistreated and stepped on, the wom...   \n4  Just when George Banks has recovered from his ...   \n\n                         title  \\\n0                    Toy Story   \n1                      Jumanji   \n2             Grumpier Old Men   \n3            Waiting to Exhale   \n4  Father of the Bride Part II   \n\n                                          cast_names director_names_nan  \n0  Tom Hanks, Tim Allen, Don Rickles, Jim Varney,...      John Lasseter  \n1  Robin Williams, Jonathan Hyde, Kirsten Dunst, ...    Larry J. Franco  \n2  Walter Matthau, Jack Lemmon, Ann-Margret, Soph...      Howard Deutch  \n3  Whitney Houston, Angela Bassett, Loretta Devin...    Forest Whitaker  \n4  Steve Martin, Diane Keaton, Martin Short, Kimb...     Alan Silvestri  "
          },
          "execution_count": 48,
          "metadata": {},
          "output_type": "execute_result"
        }
      ],
      "source": [
        "df.head()"
      ]
    },
    {
      "cell_type": "code",
      "execution_count": null,
      "metadata": {
        "id": "mfSunq4H2Ett"
      },
      "outputs": [],
      "source": [
        "df['text'] = df['genres'] + ' ' + df['original_language'] + ' ' + df['overview'] + ' ' + df['cast_names'] + ' ' + df['director_names_nan']"
      ]
    },
    {
      "cell_type": "code",
      "execution_count": null,
      "metadata": {
        "id": "H7TaxdqL2Etu",
        "outputId": "28070ba6-370d-45fe-ebbc-fa39f9ea78ea"
      },
      "outputs": [
        {
          "data": {
            "text/html": "<div>\n<style scoped>\n    .dataframe tbody tr th:only-of-type {\n        vertical-align: middle;\n    }\n\n    .dataframe tbody tr th {\n        vertical-align: top;\n    }\n\n    .dataframe thead th {\n        text-align: right;\n    }\n</style>\n<table border=\"1\" class=\"dataframe\">\n  <thead>\n    <tr style=\"text-align: right;\">\n      <th></th>\n      <th>genres</th>\n      <th>original_language</th>\n      <th>overview</th>\n      <th>title</th>\n      <th>cast_names</th>\n      <th>director_names_nan</th>\n      <th>text</th>\n    </tr>\n  </thead>\n  <tbody>\n    <tr>\n      <th>0</th>\n      <td>Animation, Comedy, Family</td>\n      <td>en</td>\n      <td>Led by Woody, Andy's toys live happily in his ...</td>\n      <td>Toy Story</td>\n      <td>Tom Hanks, Tim Allen, Don Rickles, Jim Varney,...</td>\n      <td>John Lasseter</td>\n      <td>Animation, Comedy, Family en Led by Woody, And...</td>\n    </tr>\n    <tr>\n      <th>1</th>\n      <td>Adventure, Fantasy, Family</td>\n      <td>en</td>\n      <td>When siblings Judy and Peter discover an encha...</td>\n      <td>Jumanji</td>\n      <td>Robin Williams, Jonathan Hyde, Kirsten Dunst, ...</td>\n      <td>Larry J. Franco</td>\n      <td>Adventure, Fantasy, Family en When siblings Ju...</td>\n    </tr>\n    <tr>\n      <th>2</th>\n      <td>Romance, Comedy</td>\n      <td>en</td>\n      <td>A family wedding reignites the ancient feud be...</td>\n      <td>Grumpier Old Men</td>\n      <td>Walter Matthau, Jack Lemmon, Ann-Margret, Soph...</td>\n      <td>Howard Deutch</td>\n      <td>Romance, Comedy en A family wedding reignites ...</td>\n    </tr>\n    <tr>\n      <th>3</th>\n      <td>Comedy, Drama, Romance</td>\n      <td>en</td>\n      <td>Cheated on, mistreated and stepped on, the wom...</td>\n      <td>Waiting to Exhale</td>\n      <td>Whitney Houston, Angela Bassett, Loretta Devin...</td>\n      <td>Forest Whitaker</td>\n      <td>Comedy, Drama, Romance en Cheated on, mistreat...</td>\n    </tr>\n    <tr>\n      <th>4</th>\n      <td>Comedy</td>\n      <td>en</td>\n      <td>Just when George Banks has recovered from his ...</td>\n      <td>Father of the Bride Part II</td>\n      <td>Steve Martin, Diane Keaton, Martin Short, Kimb...</td>\n      <td>Alan Silvestri</td>\n      <td>Comedy en Just when George Banks has recovered...</td>\n    </tr>\n  </tbody>\n</table>\n</div>",
            "text/plain": "                       genres original_language  \\\n0   Animation, Comedy, Family                en   \n1  Adventure, Fantasy, Family                en   \n2             Romance, Comedy                en   \n3      Comedy, Drama, Romance                en   \n4                      Comedy                en   \n\n                                            overview  \\\n0  Led by Woody, Andy's toys live happily in his ...   \n1  When siblings Judy and Peter discover an encha...   \n2  A family wedding reignites the ancient feud be...   \n3  Cheated on, mistreated and stepped on, the wom...   \n4  Just when George Banks has recovered from his ...   \n\n                         title  \\\n0                    Toy Story   \n1                      Jumanji   \n2             Grumpier Old Men   \n3            Waiting to Exhale   \n4  Father of the Bride Part II   \n\n                                          cast_names director_names_nan  \\\n0  Tom Hanks, Tim Allen, Don Rickles, Jim Varney,...      John Lasseter   \n1  Robin Williams, Jonathan Hyde, Kirsten Dunst, ...    Larry J. Franco   \n2  Walter Matthau, Jack Lemmon, Ann-Margret, Soph...      Howard Deutch   \n3  Whitney Houston, Angela Bassett, Loretta Devin...    Forest Whitaker   \n4  Steve Martin, Diane Keaton, Martin Short, Kimb...     Alan Silvestri   \n\n                                                text  \n0  Animation, Comedy, Family en Led by Woody, And...  \n1  Adventure, Fantasy, Family en When siblings Ju...  \n2  Romance, Comedy en A family wedding reignites ...  \n3  Comedy, Drama, Romance en Cheated on, mistreat...  \n4  Comedy en Just when George Banks has recovered...  "
          },
          "execution_count": 50,
          "metadata": {},
          "output_type": "execute_result"
        }
      ],
      "source": [
        "df.head()"
      ]
    },
    {
      "cell_type": "code",
      "execution_count": null,
      "metadata": {
        "id": "GFBgJGs22Etu"
      },
      "outputs": [],
      "source": [
        "df = df[['text','title']]"
      ]
    },
    {
      "cell_type": "code",
      "execution_count": null,
      "metadata": {
        "id": "oJZ-RYyC2Etu",
        "outputId": "740af229-2d93-4a70-f364-cd0dc12fe7bf"
      },
      "outputs": [
        {
          "data": {
            "text/html": "<div>\n<style scoped>\n    .dataframe tbody tr th:only-of-type {\n        vertical-align: middle;\n    }\n\n    .dataframe tbody tr th {\n        vertical-align: top;\n    }\n\n    .dataframe thead th {\n        text-align: right;\n    }\n</style>\n<table border=\"1\" class=\"dataframe\">\n  <thead>\n    <tr style=\"text-align: right;\">\n      <th></th>\n      <th>text</th>\n      <th>title</th>\n    </tr>\n  </thead>\n  <tbody>\n    <tr>\n      <th>0</th>\n      <td>Animation, Comedy, Family en Led by Woody, And...</td>\n      <td>Toy Story</td>\n    </tr>\n    <tr>\n      <th>1</th>\n      <td>Adventure, Fantasy, Family en When siblings Ju...</td>\n      <td>Jumanji</td>\n    </tr>\n    <tr>\n      <th>2</th>\n      <td>Romance, Comedy en A family wedding reignites ...</td>\n      <td>Grumpier Old Men</td>\n    </tr>\n    <tr>\n      <th>3</th>\n      <td>Comedy, Drama, Romance en Cheated on, mistreat...</td>\n      <td>Waiting to Exhale</td>\n    </tr>\n    <tr>\n      <th>4</th>\n      <td>Comedy en Just when George Banks has recovered...</td>\n      <td>Father of the Bride Part II</td>\n    </tr>\n  </tbody>\n</table>\n</div>",
            "text/plain": "                                                text  \\\n0  Animation, Comedy, Family en Led by Woody, And...   \n1  Adventure, Fantasy, Family en When siblings Ju...   \n2  Romance, Comedy en A family wedding reignites ...   \n3  Comedy, Drama, Romance en Cheated on, mistreat...   \n4  Comedy en Just when George Banks has recovered...   \n\n                         title  \n0                    Toy Story  \n1                      Jumanji  \n2             Grumpier Old Men  \n3            Waiting to Exhale  \n4  Father of the Bride Part II  "
          },
          "execution_count": 52,
          "metadata": {},
          "output_type": "execute_result"
        }
      ],
      "source": [
        "df.head()"
      ]
    },
    {
      "cell_type": "code",
      "execution_count": null,
      "metadata": {
        "id": "CReL3Qoa2Etu"
      },
      "outputs": [],
      "source": [
        "# removing html tags\n",
        "import re\n",
        "def remove_tags(text):\n",
        "    cleaned_txt = re.sub(re.compile('<.*?>'),'',text)\n",
        "    return cleaned_txt"
      ]
    },
    {
      "cell_type": "code",
      "execution_count": null,
      "metadata": {
        "id": "m3Ay38UB2Etu"
      },
      "outputs": [],
      "source": [
        "df['text'] = df['text'].apply(remove_tags)"
      ]
    },
    {
      "cell_type": "code",
      "execution_count": null,
      "metadata": {
        "id": "yf_Yh03e2Etv"
      },
      "outputs": [],
      "source": [
        "# removing urls\n",
        "def remove_urls(text):\n",
        "    pattern = re.sub(re.compile(r'https?://\\S+|www.\\S+'),'',text)\n",
        "    return pattern"
      ]
    },
    {
      "cell_type": "code",
      "execution_count": null,
      "metadata": {
        "id": "fLRH6mi12Etv"
      },
      "outputs": [],
      "source": [
        "df['text'] = df['text'].apply(remove_urls)"
      ]
    },
    {
      "cell_type": "code",
      "execution_count": null,
      "metadata": {
        "id": "ThngTA_82Etv"
      },
      "outputs": [],
      "source": [
        "# remove punctuation\n",
        "import string\n",
        "exclude = string.punctuation\n",
        "def remove_punc(text):\n",
        "    return text.translate(str.maketrans('','',exclude))"
      ]
    },
    {
      "cell_type": "code",
      "execution_count": null,
      "metadata": {
        "id": "IDiZ5-O92Etv"
      },
      "outputs": [],
      "source": [
        "df['text'] = df['text'].apply(remove_punc)"
      ]
    },
    {
      "cell_type": "code",
      "execution_count": null,
      "metadata": {
        "id": "0WSV0o1h2Etv"
      },
      "outputs": [],
      "source": [
        "# remove chat words\n",
        "chat_words = {\n",
        "    \"AFAIK\":\"As Far As I Know\",\n",
        "\"AFK\":\"Away From Keyboard\",\n",
        "\"ASAP\":\"As Soon As Possible\",\n",
        "\"ATK\":\"At The Keyboard\",\n",
        "\"ATM\":\"At The Moment\",\n",
        "\"A3\":\"Anytime, Anywhere, Anyplace\",\n",
        "\"BAK\":\"Back At Keyboard\",\n",
        "\"BBL\":\"Be Back Later\",\n",
        "\"BBS\":\"Be Back Soon\",\n",
        "\"BFN\":\"Bye For Now\",\n",
        "\"B4N\":\"Bye For Now\",\n",
        "\"BRB\":\"Be Right Back\",\n",
        "\"BRT\":\"Be Right There\",\n",
        "\"BTW\":\"By The Way\",\n",
        "\"B4\":\"Before\",\n",
        "\"B4N\":\"Bye For Now\",\n",
        "\"CU\":\"See You\",\n",
        "\"CUL8R\":\"See You Later\",\n",
        "\"CYA\":\"See You\",\n",
        "\"FAQ\":\"Frequently Asked Questions\",\n",
        "\"FC\":\"Fingers Crossed\",\n",
        "\"FWIW\":\"For What It's Worth\",\n",
        "\"FYI\":\"For Your Information\",\n",
        "\"GAL\":\"Get A Life\",\n",
        "\"GG\":\"Good Game\",\n",
        "\"GN\":\"Good Night\",\n",
        "\"GMTA\":\"Great Minds Think Alike\",\n",
        "\"GR8\":\"Great!\",\n",
        "\"G9\":\"Genius\",\n",
        "\"IC\":\"I See\",\n",
        "\"ICQ\":\"I Seek you\",\n",
        "\"ILU\":\"I Love You\",\n",
        "\"IMHO\":\"In My Honest/Humble Opinion\",\n",
        "\"IMO\":\"In My Opinion\",\n",
        "\"IOW\":\"In Other Words\",\n",
        "\"IRL\":\"In Real Life\",\n",
        "\"KISS\":\"Keep It Simple, Stupid\",\n",
        "\"LDR\":\"Long Distance Relationship\",\n",
        "\"LMAO\":\"Laugh My A.. Off\",\n",
        "\"LOL\":\"Laughing Out Loud\",\n",
        "\"LTNS\":\"Long Time No See\",\n",
        "\"L8R\":\"Later\",\n",
        "\"MTE\":\"My Thoughts Exactly\",\n",
        "\"M8\":\"Mate\",\n",
        "\"NRN\":\"No Reply Necessary\",\n",
        "\"OIC\":\"Oh I See\",\n",
        "\"PITA\":\"Pain In The A..\",\n",
        "\"PRT\":\"Party\",\n",
        "\"PRW\":\"Parents Are Watching\",\n",
        "\"QPSA\":\"Que Pasa\",\n",
        "\"ROFL\":\"Rolling On The Floor Laughing\",\n",
        "\"ROFLOL\":\"Rolling On The Floor Laughing Out Loud\",\n",
        "\"ROTFLMAO\":\"Rolling On The Floor Laughing My A.. Off\",\n",
        "\"SK8\":\"Skate\",\n",
        "\"STATS\":\"Your sex and age\",\n",
        "\"ASL\":\"Age, Sex, Location\",\n",
        "\"THX\":\"Thank You\",\n",
        "\"TTFN\":\"Ta-Ta For Now!\",\n",
        "\"TTYL\":\"Talk To You Later\",\n",
        "\"U\":\"You\",\n",
        "\"U2\":\"You Too\",\n",
        "\"U4E\":\"Yours For Ever\",\n",
        "\"WB\":\"Welcome Back\",\n",
        "\"WTF\":\"What The F...\",\n",
        "\"WTG\":\"Way To Go!\",\n",
        "\"WUF\":\"Where Are You From?\",\n",
        "\"W8\":\"Wait...\",\n",
        "\"7K\":\"Sick:-D Laugher\",\n",
        "}"
      ]
    },
    {
      "cell_type": "code",
      "execution_count": null,
      "metadata": {
        "id": "Rsotbr2k2Etw"
      },
      "outputs": [],
      "source": [
        "chat_words = []\n",
        "def chat_conversion(text):\n",
        "    new_text = []\n",
        "    for w in text.split():\n",
        "        if w.upper() in chat_words:\n",
        "            new_text.append(chat_words[w.upper()])\n",
        "        else:\n",
        "            new_text.append(w)\n",
        "    return \" \".join(new_text)"
      ]
    },
    {
      "cell_type": "code",
      "execution_count": null,
      "metadata": {
        "id": "yYbZM05J2Etw"
      },
      "outputs": [],
      "source": [
        "df['text'] = df['text'].apply(chat_conversion)"
      ]
    },
    {
      "cell_type": "code",
      "execution_count": null,
      "metadata": {
        "id": "WrruKmWA2Etw"
      },
      "outputs": [],
      "source": [
        "# replace emoji\n",
        "import emoji\n",
        "def replace_emoji(text):\n",
        "    return emoji.demojize(text)"
      ]
    },
    {
      "cell_type": "code",
      "execution_count": null,
      "metadata": {
        "id": "s5sOLrKy2Etw"
      },
      "outputs": [],
      "source": [
        "df['text'] = df['text'].apply(replace_emoji)"
      ]
    },
    {
      "cell_type": "code",
      "execution_count": null,
      "metadata": {
        "id": "D7qjfv1a2Etx",
        "outputId": "95092541-61fc-42dd-a4bc-e9bd2ef62678"
      },
      "outputs": [
        {
          "name": "stdout",
          "output_type": "stream",
          "text": [
            "[nltk_data] Error loading stopwords: <urlopen error [Errno -3]\n",
            "[nltk_data]     Temporary failure in name resolution>\n"
          ]
        },
        {
          "data": {
            "text/plain": "False"
          },
          "execution_count": 64,
          "metadata": {},
          "output_type": "execute_result"
        }
      ],
      "source": [
        "import nltk\n",
        "nltk.download('stopwords')"
      ]
    },
    {
      "cell_type": "code",
      "execution_count": null,
      "metadata": {
        "id": "Io59OxSH2Ety",
        "outputId": "ac0e1149-0397-426a-83be-6f8c0977e0f8"
      },
      "outputs": [
        {
          "data": {
            "text/plain": "['i',\n 'me',\n 'my',\n 'myself',\n 'we',\n 'our',\n 'ours',\n 'ourselves',\n 'you',\n \"you're\",\n \"you've\",\n \"you'll\",\n \"you'd\",\n 'your',\n 'yours',\n 'yourself',\n 'yourselves',\n 'he',\n 'him',\n 'his',\n 'himself',\n 'she',\n \"she's\",\n 'her',\n 'hers',\n 'herself',\n 'it',\n \"it's\",\n 'its',\n 'itself',\n 'they',\n 'them',\n 'their',\n 'theirs',\n 'themselves',\n 'what',\n 'which',\n 'who',\n 'whom',\n 'this',\n 'that',\n \"that'll\",\n 'these',\n 'those',\n 'am',\n 'is',\n 'are',\n 'was',\n 'were',\n 'be',\n 'been',\n 'being',\n 'have',\n 'has',\n 'had',\n 'having',\n 'do',\n 'does',\n 'did',\n 'doing',\n 'a',\n 'an',\n 'the',\n 'and',\n 'but',\n 'if',\n 'or',\n 'because',\n 'as',\n 'until',\n 'while',\n 'of',\n 'at',\n 'by',\n 'for',\n 'with',\n 'about',\n 'against',\n 'between',\n 'into',\n 'through',\n 'during',\n 'before',\n 'after',\n 'above',\n 'below',\n 'to',\n 'from',\n 'up',\n 'down',\n 'in',\n 'out',\n 'on',\n 'off',\n 'over',\n 'under',\n 'again',\n 'further',\n 'then',\n 'once',\n 'here',\n 'there',\n 'when',\n 'where',\n 'why',\n 'how',\n 'all',\n 'any',\n 'both',\n 'each',\n 'few',\n 'more',\n 'most',\n 'other',\n 'some',\n 'such',\n 'no',\n 'nor',\n 'not',\n 'only',\n 'own',\n 'same',\n 'so',\n 'than',\n 'too',\n 'very',\n 's',\n 't',\n 'can',\n 'will',\n 'just',\n 'don',\n \"don't\",\n 'should',\n \"should've\",\n 'now',\n 'd',\n 'll',\n 'm',\n 'o',\n 're',\n 've',\n 'y',\n 'ain',\n 'aren',\n \"aren't\",\n 'couldn',\n \"couldn't\",\n 'didn',\n \"didn't\",\n 'doesn',\n \"doesn't\",\n 'hadn',\n \"hadn't\",\n 'hasn',\n \"hasn't\",\n 'haven',\n \"haven't\",\n 'isn',\n \"isn't\",\n 'ma',\n 'mightn',\n \"mightn't\",\n 'mustn',\n \"mustn't\",\n 'needn',\n \"needn't\",\n 'shan',\n \"shan't\",\n 'shouldn',\n \"shouldn't\",\n 'wasn',\n \"wasn't\",\n 'weren',\n \"weren't\",\n 'won',\n \"won't\",\n 'wouldn',\n \"wouldn't\"]"
          },
          "execution_count": 65,
          "metadata": {},
          "output_type": "execute_result"
        }
      ],
      "source": [
        "from nltk.corpus import stopwords\n",
        "stopwords.words('english')"
      ]
    },
    {
      "cell_type": "code",
      "execution_count": null,
      "metadata": {
        "id": "DBa85j-72Etz"
      },
      "outputs": [],
      "source": [
        "# remove stop words\n",
        "from nltk.corpus import stopwords\n",
        "def remove_stopwords(text):\n",
        "    new_text = ['' if word in stopwords.words('english') else word for word in text.split()]\n",
        "    x = new_text[:]\n",
        "    new_text.clear()\n",
        "    return ' '.join(x)"
      ]
    },
    {
      "cell_type": "code",
      "execution_count": null,
      "metadata": {
        "id": "s_z2nfjS2Etz",
        "outputId": "9bcb35fb-e9d6-4b6c-cf42-d344fa75551a"
      },
      "outputs": [
        {
          "name": "stdout",
          "output_type": "stream",
          "text": [
            "518.84082383\n"
          ]
        }
      ],
      "source": [
        "import time\n",
        "start = time.process_time()\n",
        "df['text'] = df['text'].apply(remove_stopwords)\n",
        "print(time.process_time() - start)"
      ]
    },
    {
      "cell_type": "code",
      "execution_count": null,
      "metadata": {
        "id": "CNOHz0Y52Et0"
      },
      "outputs": [],
      "source": [
        "# stemming\n",
        "from nltk.stem.porter import PorterStemmer\n",
        "ps = PorterStemmer()\n",
        "def stem_words(text):\n",
        "    return ' '.join([ps.stem(word) for word in text.split()])"
      ]
    },
    {
      "cell_type": "code",
      "execution_count": null,
      "metadata": {
        "id": "zXy59CxC2Et0",
        "outputId": "39cfa878-53a7-4433-d144-0bf88af207e2"
      },
      "outputs": [
        {
          "name": "stdout",
          "output_type": "stream",
          "text": [
            "74.76344855100001\n"
          ]
        }
      ],
      "source": [
        "import time\n",
        "start = time.process_time()\n",
        "df['text'] = df['text'].apply(stem_words)\n",
        "print(time.process_time() - start)"
      ]
    },
    {
      "cell_type": "code",
      "execution_count": null,
      "metadata": {
        "id": "-UlOq81w2Et1"
      },
      "outputs": [],
      "source": [
        "df['text'] = df['text'].str.lower()"
      ]
    },
    {
      "cell_type": "code",
      "execution_count": null,
      "metadata": {
        "id": "x8FisKke2Et1"
      },
      "outputs": [],
      "source": [
        "from sklearn.feature_extraction.text import CountVectorizer,TfidfVectorizer\n",
        "cv = CountVectorizer(max_features=10000, stop_words='english')\n",
        "tfidf = TfidfVectorizer(max_features=10000, stop_words='english')"
      ]
    },
    {
      "cell_type": "code",
      "execution_count": null,
      "metadata": {
        "id": "03fyRNMC2Et1"
      },
      "outputs": [],
      "source": [
        "vectors = cv.fit_transform(df['text']).toarray()"
      ]
    },
    {
      "cell_type": "code",
      "execution_count": null,
      "metadata": {
        "id": "GKe_ge892Et2"
      },
      "outputs": [],
      "source": [
        "from sklearn.metrics.pairwise import cosine_similarity\n"
      ]
    },
    {
      "cell_type": "code",
      "execution_count": null,
      "metadata": {
        "id": "VAGlDUKy2Et2"
      },
      "outputs": [],
      "source": [
        "simililarity = cosine_similarity(vectors)"
      ]
    },
    {
      "cell_type": "code",
      "execution_count": null,
      "metadata": {
        "id": "Yks9McX22Et2"
      },
      "outputs": [],
      "source": [
        "simi"
      ]
    }
  ],
  "metadata": {
    "accelerator": "GPU",
    "colab": {
      "provenance": [],
      "include_colab_link": true
    },
    "gpuClass": "standard",
    "kernelspec": {
      "display_name": "Python 3",
      "language": "python",
      "name": "python3"
    },
    "language_info": {
      "codemirror_mode": {
        "name": "ipython",
        "version": 3
      },
      "file_extension": ".py",
      "mimetype": "text/x-python",
      "name": "python",
      "nbconvert_exporter": "python",
      "pygments_lexer": "ipython3",
      "version": "3.7.12"
    }
  },
  "nbformat": 4,
  "nbformat_minor": 0
}